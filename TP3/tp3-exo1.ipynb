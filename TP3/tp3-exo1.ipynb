{
 "cells": [
  {
   "cell_type": "markdown",
   "metadata": {},
   "source": [
    "# TP3 - Exercice 1 - Algorithme \"pocket\" pour le perceptron\n",
    "\n",
    "(Question 1)"
   ]
  },
  {
   "cell_type": "code",
   "execution_count": 1,
   "metadata": {
    "collapsed": false
   },
   "outputs": [
    {
     "data": {
      "image/png": "[encoded data removed]",
      "text/plain": [
       "<matplotlib.figure.Figure at 0x7f9fdc175ef0>"
      ]
     },
     "metadata": {},
     "output_type": "display_data"
    }
   ],
   "source": [
    "from sklearn import datasets\n",
    "import numpy as np\n",
    "import matplotlib.pyplot as plt\n",
    "import queue\n",
    "\n",
    "# Permet l'affichage des graphiques\n",
    "\n",
    "%matplotlib inline\n",
    "\n",
    "# Variable utiles\n",
    "\n",
    "nb_features = 2\n",
    "\n",
    "# Génération d'un tableau de 100 points uniformément réparti\n",
    "\n",
    "def generate_points(nb_points):\n",
    "    points = [[] for _ in range(nb_features)]\n",
    "    points_class = []\n",
    "\n",
    "    for i in range(nb_points):\n",
    "        ps = []\n",
    "\n",
    "        for _ in range(nb_features):\n",
    "            ps.append(np.random.random())\n",
    "\n",
    "        point_class = 0\n",
    "        if (-1/2) * ps[0] + 0.75 < ps[1]:\n",
    "            point_class = 1\n",
    "            \n",
    "        # Distance entre le point généré\n",
    "        # et la droite y = -0.5x + 0.75\n",
    "        d = np.abs((-0.5*ps[0] - ps[1] + 0.75) / (1 + np.square(0.5)))\n",
    "        theta = np.exp(-np.square(d) / (2 * np.square(0.05)))\n",
    "        if np.random.random() < theta/2:\n",
    "            if point_class == 1:\n",
    "                point_class = 0\n",
    "            else:\n",
    "                point_class = 1\n",
    "        \n",
    "        for j in range(nb_features):\n",
    "            points[j].append(ps[j])\n",
    "\n",
    "        points_class.append(point_class)\n",
    "\n",
    "    return points, points_class\n",
    "\n",
    "# Découpage en 20/80 de l'ensemble\n",
    "def datagen(n):\n",
    "    ps, ps_classes = generate_points(n)\n",
    "    X_train = [[] for _ in range(nb_features)]\n",
    "    c_train = []\n",
    "    X_test = [[] for _ in range(nb_features)]\n",
    "    c_test = []\n",
    "\n",
    "    limit = int(len(ps_classes) * (20/100))\n",
    "\n",
    "    for i in range(len(ps_classes)):\n",
    "        p = []\n",
    "        for j in range(nb_features):\n",
    "            p.append(ps[j][i])\n",
    "\n",
    "        if i > limit-1:\n",
    "            for j in range(nb_features):\n",
    "                X_test[j].append(p[j])\n",
    "            c_test.append(ps_classes[i])\n",
    "        else:\n",
    "            for j in range(nb_features):\n",
    "                X_train[j].append(p[j])\n",
    "            c_train.append(ps_classes[i])\n",
    "\n",
    "    return X_train, c_train, X_test, c_test, ps, ps_classes\n",
    "\n",
    "X_train, c_train, X_test, c_test, points, points_class = datagen(300)\n",
    "\n",
    "points_x_0 = []\n",
    "points_y_0 = []\n",
    "points_x_1 = []\n",
    "points_y_1 = []\n",
    "\n",
    "for i in range(len(points_class)):\n",
    "    if points_class[i] == 0:\n",
    "        points_x_0.append(points[0][i])\n",
    "        points_y_0.append(points[1][i])\n",
    "    else:\n",
    "        points_x_1.append(points[0][i])\n",
    "        points_y_1.append(points[1][i])\n",
    "\n",
    "plt.scatter(points_x_0, points_y_0, s=18, c='blue')\n",
    "plt.scatter(points_x_1, points_y_1, s=18, c='red')\n",
    "plt.xlim([0, 1])\n",
    "plt.ylim([0, 1])\n",
    "plt.show()"
   ]
  },
  {
   "cell_type": "markdown",
   "metadata": {},
   "source": [
    "(Question 2)"
   ]
  },
  {
   "cell_type": "code",
   "execution_count": 3,
   "metadata": {
    "collapsed": false
   },
   "outputs": [
    {
     "name": "stdout",
     "output_type": "stream",
     "text": [
      "[-0.1591434   1.42947467 -1.83882351]\n"
     ]
    },
    {
     "data": {
      "text/plain": [
       "array([-0.1591434 ,  1.42947467, -1.83882351])"
      ]
     },
     "execution_count": 3,
     "metadata": {},
     "output_type": "execute_result"
    }
   ],
   "source": [
    "# Fonction ptest qui évalue un x selon un theta\n",
    "def ptest(x, theta):\n",
    "    # Ajout du 1 à chaque x\n",
    "    npx = np.insert(np.array(x), nb_features, 1, axis=1)\n",
    "\n",
    "    # On met theta comme il faut\n",
    "    theta = theta.reshape((1, nb_features+1))\n",
    "    \n",
    "    # Calcul\n",
    "    v = np.dot(theta, npx.T)\n",
    "\n",
    "    # On applique la fonction signe\n",
    "    v = np.sign(v)\n",
    "    \n",
    "    return v[0][0]\n",
    "\n",
    "# Fonction ptrain\n",
    "def ptrain_v2(xapp, yapp, iterations):    \n",
    "    history = []\n",
    "\n",
    "    for _ in range(iterations):\n",
    "        theta = np.array([np.random.random() for _ in range(nb_features+1)])\n",
    "        cpt_success = 0\n",
    "        for i in range(len(yapp)):\n",
    "            x = [xapp[j][i] for j in range(nb_features)]\n",
    "\n",
    "            c = ptest([x], theta)\n",
    "\n",
    "            # Erreur\n",
    "            if (c == 1 and yapp[i] == 0) or (c == -1 and yapp[i] == 1):\n",
    "                theta -= c * np.concatenate((np.array(x),np.array([1])))\n",
    "            else:\n",
    "                cpt_success += 1\n",
    "        history.append((cpt_success, theta))\n",
    "    \n",
    "    print(list(reversed(sorted(history, key=lambda x : x[0])))[0][1])\n",
    "    return list(reversed(sorted(history, key=lambda x : x[0])))[0][1]\n",
    "\n",
    "theta = ptrain_v2(X_train, c_train, 100)"
   ]
  },
  {
   "cell_type": "code",
   "execution_count": null,
   "metadata": {
    "collapsed": true
   },
   "outputs": [],
   "source": []
  }
 ],
 "metadata": {
  "kernelspec": {
   "display_name": "Python [Root]",
   "language": "python",
   "name": "Python [Root]"
  },
  "language_info": {
   "codemirror_mode": {
    "name": "ipython",
    "version": 3
   },
   "file_extension": ".py",
   "mimetype": "text/x-python",
   "name": "python",
   "nbconvert_exporter": "python",
   "pygments_lexer": "ipython3",
   "version": "3.5.2"
  }
 },
 "nbformat": 4,
 "nbformat_minor": 0
}
