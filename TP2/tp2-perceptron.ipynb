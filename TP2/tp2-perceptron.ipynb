{
 "cells": [
  {
   "cell_type": "markdown",
   "metadata": {},
   "source": [
    "# A2DI : TP2 - Vers la perte d'un perceptron\n",
    "\n",
    "## Import du TP1\n",
    "\n",
    "(Question 1 & 2)"
   ]
  },
  {
   "cell_type": "code",
   "execution_count": 1,
   "metadata": {
    "collapsed": false
   },
   "outputs": [],
   "source": [
    "from sklearn import datasets\n",
    "import numpy as np\n",
    "import matplotlib.pyplot as plt\n",
    "import queue\n",
    "\n",
    "# Permet l'affichage des graphiques\n",
    "\n",
    "%matplotlib inline\n",
    "\n",
    "# Variable utiles\n",
    "\n",
    "nb_features = 2\n",
    "\n",
    "# Génération d'un tableau de 100 points uniformément réparti\n",
    "\n",
    "def generate_points(nb_points):\n",
    "    points = [[] for _ in range(nb_features)]\n",
    "    points_class = []\n",
    "\n",
    "    for i in range(nb_points):\n",
    "        ps = []\n",
    "\n",
    "        for _ in range(nb_features):\n",
    "            ps.append(np.random.random())\n",
    "\n",
    "        point_class = 0\n",
    "        if (-1/2) * ps[0] + 0.75 < ps[1]:\n",
    "            point_class = 1\n",
    "        \n",
    "        for j in range(nb_features):\n",
    "            points[j].append(ps[j])\n",
    "\n",
    "        points_class.append(point_class)\n",
    "\n",
    "    return points, points_class\n",
    "\n",
    "# Création du graphique de répartition des points\n",
    "\n",
    "#points_x_0 = []\n",
    "#points_y_0 = []\n",
    "#points_x_1 = []\n",
    "#points_y_1 = []\n",
    "\n",
    "#for i in range(len(points_class)):\n",
    "#    if points_class[i] == 0:\n",
    "#        points_x_0.append(points[0][i])\n",
    "#        points_y_0.append(points[1][i])\n",
    "#    else:\n",
    "#        points_x_1.append(points[0][i])\n",
    "#        points_y_1.append(points[1][i])\n",
    "        \n",
    "#plt.scatter(points_x_0, points_y_0, s=12, c='red')\n",
    "#plt.scatter(points_x_1, points_y_1, s=12)\n",
    "#plt.show()\n"
   ]
  },
  {
   "cell_type": "code",
   "execution_count": 2,
   "metadata": {
    "collapsed": true
   },
   "outputs": [],
   "source": [
    "# Découpage en 10/90 de l'ensemble\n",
    "def datagen(n):\n",
    "    ps, ps_classes = generate_points(n)\n",
    "    X_train = [[] for _ in range(nb_features)]\n",
    "    c_train = []\n",
    "    X_test = [[] for _ in range(nb_features)]\n",
    "    c_test = []\n",
    "\n",
    "    limit = int(len(ps_classes) * (10/100))\n",
    "\n",
    "    for i in range(len(ps_classes)):\n",
    "        p = []\n",
    "        for j in range(nb_features):\n",
    "            p.append(ps[j][i])\n",
    "\n",
    "        if i > limit-1:\n",
    "            for j in range(nb_features):\n",
    "                X_test[j].append(p[j])\n",
    "            c_test.append(ps_classes[i])\n",
    "        else:\n",
    "            for j in range(nb_features):\n",
    "                X_train[j].append(p[j])\n",
    "            c_train.append(ps_classes[i])\n",
    "\n",
    "    return X_train, c_train, X_test, c_test"
   ]
  },
  {
   "cell_type": "code",
   "execution_count": 3,
   "metadata": {
    "collapsed": true,
    "scrolled": true
   },
   "outputs": [],
   "source": [
    "# Fonction ptest qui évalue un x selon un theta\n",
    "def ptest(x, theta):\n",
    "    # Ajout du 1 à chaque x\n",
    "    npx = np.insert(np.array(x), nb_features, 1, axis=1)\n",
    "\n",
    "    # On met theta comme il faut\n",
    "    theta = theta.reshape((1, nb_features+1))\n",
    "    \n",
    "    # Calcul\n",
    "    v = np.dot(theta, npx.T)\n",
    "\n",
    "    # On applique la fonction signe\n",
    "    v = np.sign(v)\n",
    "    \n",
    "    return v[0][0]\n",
    "\n",
    "# Fonction ptrain\n",
    "def ptrain(xapp, yapp):\n",
    "    theta = np.array([np.random.random() for _ in range(nb_features+1)])\n",
    "    \n",
    "    cpt_success = 0\n",
    "    \n",
    "    while cpt_success < len(yapp):\n",
    "        cpt_success = 0\n",
    "        for i in range(len(yapp)):\n",
    "            x = [xapp[j][i] for j in range(nb_features)]\n",
    "\n",
    "            c = ptest([x], theta)\n",
    "\n",
    "            # Erreur\n",
    "            if (c == 1 and yapp[i] == 0) or (c == -1 and yapp[i] == 1):\n",
    "                theta -= c * np.concatenate((np.array(x),np.array([1])))\n",
    "            else:\n",
    "                cpt_success += 1\n",
    "                \n",
    "    return np.array(theta)\n",
    "\n",
    "#plt.scatter(points_x_0, points_y_0, s=12, c='red')\n",
    "#plt.scatter(points_x_1, points_y_1, s=12)\n",
    "\n",
    "#arr = np.array([i/1000 for i in range(0, 1000)])\n",
    "#formula = lambda x : -((theta[0] * x + theta[2])/theta[1])\n",
    "#plt.plot(arr, formula(arr), c=\"magenta\")\n",
    "#plt.show()\n"
   ]
  },
  {
   "cell_type": "code",
   "execution_count": 4,
   "metadata": {
    "collapsed": false
   },
   "outputs": [
    {
     "data": {
      "image/png": "[encoded data removed]",
      "text/plain": [
       "<matplotlib.figure.Figure at 0x7f18883c5828>"
      ]
     },
     "metadata": {},
     "output_type": "display_data"
    }
   ],
   "source": [
    "# Test sur les jeux de tests\n",
    "\n",
    "def get_test_err(n):\n",
    "    X_train, c_train, X_test, c_test = datagen(n)\n",
    "    theta = ptrain(X_train, c_train)\n",
    "    t = 0\n",
    "    for i in range(len(c_test)):\n",
    "        x = [X_test[j][i] for j in range(nb_features)]\n",
    "        pred = ptest([x], theta)\n",
    "        if pred > 0:\n",
    "            p = 1\n",
    "        else:\n",
    "            p = 0\n",
    "\n",
    "        if p == c_test[i]:\n",
    "            t += 1\n",
    "\n",
    "    #print(\"Taux de prédiction : {}%\".format(t/len(c_test)*100))\n",
    "\n",
    "    return (1-(t/len(c_test)))*100\n",
    "\n",
    "def esperance(data):\n",
    "    max_sample = np.max(data)+0.5\n",
    "\n",
    "    proba = [0 for _ in np.arange(0, max_sample+0.5, 0.5)]\n",
    "\n",
    "    for s in data:\n",
    "        proba[int(s//0.5)] += 1\n",
    "\n",
    "    sum_sample = np.sum(proba)\n",
    "\n",
    "    for i in range(len(proba)):\n",
    "        proba[i] /= sum_sample\n",
    "\n",
    "    return np.dot(np.array(proba), np.array([x for x in np.arange(0, max_sample+0.5, 0.5)]))\n",
    "\n",
    "\n",
    "sample = []\n",
    "keep_going = True\n",
    "q = queue.Queue(10)\n",
    "\n",
    "while keep_going:\n",
    "    sample.append(get_test_err(445))\n",
    "    if q.full():\n",
    "        q.get()\n",
    "    q.put(esperance(sample))\n",
    "    esp = []\n",
    "    \n",
    "    #On test si les espérances sont similaires ou pas\n",
    "    for i in list(q.queue):\n",
    "        esp.append(i)\n",
    "    \n",
    "    if len(esp) > 5 and not (np.abs(np.array(esp) - esp[0]) > 0.001).any():\n",
    "        keep_going = False\n",
    "        \n",
    "plt.hist(sample, bins=[x for x in np.arange(0, np.max(sample)+0.5, 0.5)], width=0.5)\n",
    "plt.show()"
   ]
  },
  {
   "cell_type": "code",
   "execution_count": 5,
   "metadata": {
    "collapsed": false
   },
   "outputs": [
    {
     "name": "stdout",
     "output_type": "stream",
     "text": [
      "[0.11866295264623955, 0.10974930362116991, 0.11030640668523677, 0.1064066852367688, 0.085793871866295265, 0.09415041782729805, 0.064066852367688026, 0.059052924791086349, 0.043454038997214485, 0.041225626740947076, 0.027855153203342618, 0.030640668523676879, 0.02116991643454039, 0.020055710306406686, 0.015598885793871866, 0.014484679665738161, 0.0055710306406685237, 0.0055710306406685237, 0.0016713091922005571, 0.0050139275766016714, 0.0033426183844011141, 0.0033426183844011141, 0.0016713091922005571, 0.0016713091922005571, 0.0022284122562674096, 0.0011142061281337048, 0.0011142061281337048, 0.0022284122562674096, 0.00055710306406685239, 0.00055710306406685239, 0.00055710306406685239, 0.0, 0.0, 0.0, 0.0, 0.0, 0.0, 0.0, 0.0011142061281337048, 0.0]\n",
      "2.6643454039\n"
     ]
    }
   ],
   "source": [
    "# Esperance\n",
    "proba = [0 for _ in np.arange(0, np.max(sample)+0.5, 0.5)]\n",
    "max_sample = np.max(sample)+0.5\n",
    "\n",
    "for s in sample:\n",
    "    proba[int(s//0.5)] += 1\n",
    "    \n",
    "sum_sample = np.sum(proba)\n",
    "\n",
    "for i in range(len(proba)):\n",
    "    proba[i] /= sum_sample\n",
    "    \n",
    "print(proba)\n",
    "esperance = np.dot(np.array(proba), np.array([x for x in np.arange(0, np.max(sample)+0.5, 0.5)]))\n",
    "print(esperance)"
   ]
  },
  {
   "cell_type": "code",
   "execution_count": null,
   "metadata": {
    "collapsed": true
   },
   "outputs": [],
   "source": []
  }
 ],
 "metadata": {
  "anaconda-cloud": {},
  "kernelspec": {
   "display_name": "Python [Root]",
   "language": "python",
   "name": "Python [Root]"
  },
  "language_info": {
   "codemirror_mode": {
    "name": "ipython",
    "version": 3
   },
   "file_extension": ".py",
   "mimetype": "text/x-python",
   "name": "python",
   "nbconvert_exporter": "python",
   "pygments_lexer": "ipython3",
   "version": "3.5.2"
  }
 },
 "nbformat": 4,
 "nbformat_minor": 2
}
