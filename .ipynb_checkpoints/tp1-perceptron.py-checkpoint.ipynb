{
 "cells": [
  {
   "cell_type": "markdown",
   "metadata": {},
   "source": [
    "# A2DI : TP1 - Perceptron\n",
    "\n",
    "## Génération des points\n",
    "\n",
    "(Question 1, 2 et 3)"
   ]
  },
  {
   "cell_type": "code",
   "execution_count": 1,
   "metadata": {},
   "outputs": [
    {
     "data": {
      "text/plain": [
       "<matplotlib.collections.PathCollection at 0x7f2814285588>"
      ]
     },
     "execution_count": 1,
     "metadata": {},
     "output_type": "execute_result"
    },
    {
     "data": {
      "image/png": "[encoded data removed]",
      "text/plain": [
       "<matplotlib.figure.Figure at 0x7f281427dac8>"
      ]
     },
     "metadata": {},
     "output_type": "display_data"
    }
   ],
   "source": [
    "from sklearn import datasets\n",
    "import numpy as np\n",
    "import matplotlib.pyplot as plt\n",
    "\n",
    "# Permet l'affichage des graphiques\n",
    "\n",
    "%matplotlib inline\n",
    "\n",
    "# Variable utiles\n",
    "\n",
    "nb_features = 2\n",
    "\n",
    "# Génération d'un tableau de 100 points uniformément réparti\n",
    "\n",
    "def generate_points():\n",
    "    points_x = []\n",
    "    points_y = []\n",
    "    points_class = []\n",
    "    for i in range(100):\n",
    "        x = np.random.random()\n",
    "        y = np.random.random()\n",
    "        point_class = 0\n",
    "        if (-1/2) * x + 0.75 < y:\n",
    "            point_class = 1\n",
    "        points_x.append(x)\n",
    "        points_y.append(y)\n",
    "        points_class.append(point_class)\n",
    "\n",
    "    return points_x, points_y, points_class\n",
    "\n",
    "points_x, points_y, points_class = generate_points()\n",
    "\n",
    "# Création du graphique de répartition des points\n",
    "\n",
    "points_x_0 = []\n",
    "points_y_0 = []\n",
    "points_x_1 = []\n",
    "points_y_1 = []\n",
    "nb_0 = 0\n",
    "nb_1 = 0\n",
    "\n",
    "for i in range(len(points_class)):\n",
    "    if points_class[i] == 0:\n",
    "        points_x_0.append(points_x[i])\n",
    "        points_y_0.append(points_y[i])\n",
    "        nb_0 += 1\n",
    "    else:\n",
    "        points_x_1.append(points_x[i])\n",
    "        points_y_1.append(points_y[i])\n",
    "        nb_1 += 1\n",
    "\n",
    "plt.scatter(points_x_0, points_y_0, s=8, c='red')\n",
    "plt.scatter(points_x_1, points_y_1, s=8)"
   ]
  },
  {
   "cell_type": "code",
   "execution_count": 2,
   "metadata": {
    "collapsed": true
   },
   "outputs": [],
   "source": [
    "# Découpage en 80/20 de l'ensemble\n",
    "\n",
    "def generate_datasets():\n",
    "    X_app = []\n",
    "    Y_app = []\n",
    "    X_test = []\n",
    "    Y_test = []\n",
    "\n",
    "    limit_0 = int(nb_0 * (80/100))\n",
    "    limit_1 = int(nb_1 * (80/100))\n",
    "\n",
    "    for i in range(nb_0):\n",
    "        p = [points_x_0[i], points_y_0[i]]\n",
    "        if i > limit_0-1:\n",
    "            X_test.append(p)\n",
    "            Y_test.append(0)\n",
    "        else:\n",
    "            X_app.append(p)\n",
    "            Y_app.append(0)\n",
    "\n",
    "    for i in range(nb_1):\n",
    "        p = (points_x_1[i], points_y_1[i])\n",
    "        if i > limit_1-1:\n",
    "            X_test.append(p)\n",
    "            Y_test.append(1)\n",
    "        else:\n",
    "            X_app.append(p)\n",
    "            Y_app.append(1)\n",
    "\n",
    "    return X_app, Y_app, X_test, Y_test\n",
    "\n",
    "X_app, Y_app, X_test, Y_test = generate_datasets()"
   ]
  },
  {
   "cell_type": "code",
   "execution_count": 8,
   "metadata": {},
   "outputs": [
    {
     "ename": "TypeError",
     "evalue": "'float' object cannot be interpreted as an integer",
     "output_type": "error",
     "traceback": [
      "\u001b[0;31m---------------------------------------------------------------------------\u001b[0m",
      "\u001b[0;31mTypeError\u001b[0m                                 Traceback (most recent call last)",
      "\u001b[0;32m<ipython-input-8-3ec32a0702dd>\u001b[0m in \u001b[0;36m<module>\u001b[0;34m()\u001b[0m\n\u001b[1;32m     40\u001b[0m \u001b[0mplt\u001b[0m\u001b[0;34m.\u001b[0m\u001b[0mscatter\u001b[0m\u001b[0;34m(\u001b[0m\u001b[0mpoints_x_1\u001b[0m\u001b[0;34m,\u001b[0m \u001b[0mpoints_y_1\u001b[0m\u001b[0;34m,\u001b[0m \u001b[0ms\u001b[0m\u001b[0;34m=\u001b[0m\u001b[0;36m8\u001b[0m\u001b[0;34m)\u001b[0m\u001b[0;34m\u001b[0m\u001b[0m\n\u001b[1;32m     41\u001b[0m \u001b[0;34m\u001b[0m\u001b[0m\n\u001b[0;32m---> 42\u001b[0;31m \u001b[0marr\u001b[0m \u001b[0;34m=\u001b[0m \u001b[0mnp\u001b[0m\u001b[0;34m.\u001b[0m\u001b[0marray\u001b[0m\u001b[0;34m(\u001b[0m\u001b[0;34m[\u001b[0m\u001b[0mi\u001b[0m \u001b[0;32mfor\u001b[0m \u001b[0mi\u001b[0m \u001b[0;32min\u001b[0m \u001b[0mrange\u001b[0m\u001b[0;34m(\u001b[0m\u001b[0;36m0\u001b[0m\u001b[0;34m,\u001b[0m \u001b[0;36m1\u001b[0m\u001b[0;34m,\u001b[0m \u001b[0;36m0.001\u001b[0m\u001b[0;34m)\u001b[0m\u001b[0;34m]\u001b[0m\u001b[0;34m)\u001b[0m\u001b[0;34m\u001b[0m\u001b[0m\n\u001b[0m\u001b[1;32m     43\u001b[0m \u001b[0mformula\u001b[0m \u001b[0;34m=\u001b[0m \u001b[0;32mlambda\u001b[0m \u001b[0mx\u001b[0m \u001b[0;34m:\u001b[0m \u001b[0;34m-\u001b[0m\u001b[0;34m(\u001b[0m\u001b[0;34m(\u001b[0m\u001b[0mtheta\u001b[0m\u001b[0;34m[\u001b[0m\u001b[0;36m0\u001b[0m\u001b[0;34m]\u001b[0m \u001b[0;34m*\u001b[0m \u001b[0mx\u001b[0m \u001b[0;34m+\u001b[0m \u001b[0mtheta\u001b[0m\u001b[0;34m[\u001b[0m\u001b[0;36m2\u001b[0m\u001b[0;34m]\u001b[0m\u001b[0;34m)\u001b[0m\u001b[0;34m/\u001b[0m\u001b[0mtheta\u001b[0m\u001b[0;34m[\u001b[0m\u001b[0;36m1\u001b[0m\u001b[0;34m]\u001b[0m\u001b[0;34m)\u001b[0m\u001b[0;34m\u001b[0m\u001b[0m\n\u001b[1;32m     44\u001b[0m \u001b[0mplt\u001b[0m\u001b[0;34m.\u001b[0m\u001b[0mplot\u001b[0m\u001b[0;34m(\u001b[0m\u001b[0marr\u001b[0m\u001b[0;34m,\u001b[0m \u001b[0mformula\u001b[0m\u001b[0;34m(\u001b[0m\u001b[0marr\u001b[0m\u001b[0;34m)\u001b[0m\u001b[0;34m)\u001b[0m\u001b[0;34m\u001b[0m\u001b[0m\n",
      "\u001b[0;31mTypeError\u001b[0m: 'float' object cannot be interpreted as an integer"
     ]
    },
    {
     "data": {
      "image/png": "[encoded data removed]",
      "text/plain": [
       "<matplotlib.figure.Figure at 0x7f27e58cd4a8>"
      ]
     },
     "metadata": {},
     "output_type": "display_data"
    }
   ],
   "source": [
    "# Fonction ptrain\n",
    "\n",
    "def evaluate(x, theta):\n",
    "    # Ajout du 1 à chaque x\n",
    "    npx = np.insert(np.array(x), nb_features, 1, axis=1)\n",
    "\n",
    "    # On met theta comme il faut\n",
    "    theta = theta.reshape((1, nb_features+1))\n",
    "    \n",
    "    # Calcul\n",
    "    v = np.dot(theta, npx.T)\n",
    "\n",
    "    # On applique la fonction signe\n",
    "    v = np.sign(v)\n",
    "    \n",
    "    return v\n",
    "    \n",
    "def ptrain(xapp, yapp):\n",
    "    theta = np.array([np.random.random() for _ in range(nb_features+1)])\n",
    "    \n",
    "    cpt_success = 0\n",
    "    \n",
    "    while cpt_success < len(xapp):\n",
    "        cpt_success = 0\n",
    "        for i in range(len(xapp)):\n",
    "            ev = evaluate([xapp[i]], theta)\n",
    "            c = ev[0][0]\n",
    "\n",
    "            # Erreur\n",
    "            if (c == 1 and yapp[i] == 0) or (c == -1 and yapp[i] == 1):\n",
    "                theta -= c * np.concatenate((np.array(xapp[i]),np.array([1])))\n",
    "            else:\n",
    "                cpt_success += 1\n",
    "    return theta\n",
    "\n",
    "\n",
    "theta = ptrain(X_app, Y_app)\n",
    "\n",
    "plt.scatter(points_x_0, points_y_0, s=8, c='red')\n",
    "plt.scatter(points_x_1, points_y_1, s=8)\n",
    "\n",
    "arr = np.array([i/1000 for i in range(0, 1000)])\n",
    "formula = lambda x : -((theta[0] * x + theta[2])/theta[1])\n",
    "plt.plot(arr, formula(arr))\n",
    "\n",
    "        "
   ]
  },
  {
   "cell_type": "code",
   "execution_count": null,
   "metadata": {
    "collapsed": true
   },
   "outputs": [],
   "source": []
  }
 ],
 "metadata": {
  "kernelspec": {
   "display_name": "Python 3",
   "language": "python",
   "name": "python3"
  },
  "language_info": {
   "codemirror_mode": {
    "name": "ipython",
    "version": 3
   },
   "file_extension": ".py",
   "mimetype": "text/x-python",
   "name": "python",
   "nbconvert_exporter": "python",
   "pygments_lexer": "ipython3",
   "version": "3.6.3"
  }
 },
 "nbformat": 4,
 "nbformat_minor": 2
}
