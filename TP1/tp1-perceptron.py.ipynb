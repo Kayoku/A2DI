{
 "cells": [
  {
   "cell_type": "markdown",
   "metadata": {},
   "source": [
    "# A2DI : TP1 - Perceptron\n",
    "\n",
    "## Génération des points\n",
    "\n",
    "(Question 1, 2 et 3)"
   ]
  },
  {
   "cell_type": "code",
   "execution_count": null,
   "metadata": {
    "collapsed": true
   },
   "outputs": [],
   "source": []
  },
  {
   "cell_type": "code",
   "execution_count": 1,
   "metadata": {},
   "outputs": [
    {
     "data": {
      "text/plain": [
       "<matplotlib.collections.PathCollection at 0x7fc174f92e80>"
      ]
     },
     "execution_count": 1,
     "metadata": {},
     "output_type": "execute_result"
    },
    {
     "data": {
      "image/png": "[encoded data removed]",
      "text/plain": [
       "<matplotlib.figure.Figure at 0x7fc19c155ac8>"
      ]
     },
     "metadata": {},
     "output_type": "display_data"
    }
   ],
   "source": [
    "from sklearn import datasets\n",
    "import numpy as np\n",
    "import matplotlib.pyplot as plt\n",
    "\n",
    "# Permet l'affichage des graphiques\n",
    "\n",
    "%matplotlib inline\n",
    "\n",
    "# Variable utiles\n",
    "\n",
    "nb_features = 2\n",
    "\n",
    "# Génération d'un tableau de 100 points uniformément réparti\n",
    "\n",
    "def generate_points(nb_points):\n",
    "    points = [[] for _ in range(nb_features)]\n",
    "    points_class = []\n",
    "\n",
    "    for i in range(nb_points):\n",
    "        ps = []\n",
    "\n",
    "        for _ in range(nb_features):\n",
    "            ps.append(np.random.random())\n",
    "\n",
    "        point_class = 0\n",
    "        if (-1/2) * ps[0] + 0.75 < ps[1]:\n",
    "            point_class = 1\n",
    "        \n",
    "        for j in range(nb_features):\n",
    "            points[j].append(ps[j])\n",
    "\n",
    "        points_class.append(point_class)\n",
    "\n",
    "    return points, points_class\n",
    "\n",
    "points, points_class = generate_points(100)\n",
    "\n",
    "# Création du graphique de répartition des points\n",
    "\n",
    "points_x_0 = []\n",
    "points_y_0 = []\n",
    "points_x_1 = []\n",
    "points_y_1 = []\n",
    "\n",
    "for i in range(len(points_class)):\n",
    "    if points_class[i] == 0:\n",
    "        points_x_0.append(points[0][i])\n",
    "        points_y_0.append(points[1][i])\n",
    "    else:\n",
    "        points_x_1.append(points[0][i])\n",
    "        points_y_1.append(points[1][i])\n",
    "\n",
    "plt.scatter(points_x_0, points_y_0, s=12, c='red')\n",
    "plt.scatter(points_x_1, points_y_1, s=12)"
   ]
  },
  {
   "cell_type": "markdown",
   "metadata": {},
   "source": [
    "Comme on peut le voir sur le graphe ci-dessus, la répartition des points bleus et rouges est correct puisqu'on peut facilement imaginer une droite pour séparer les deux ensembles.\n",
    "\n",
    "## Génération des datasets"
   ]
  },
  {
   "cell_type": "code",
   "execution_count": 2,
   "metadata": {
    "collapsed": true
   },
   "outputs": [],
   "source": [
    "# Découpage en 80/20 de l'ensemble\n",
    "\n",
    "def generate_datasets(ps, ps_classes):\n",
    "    X_app = [[] for _ in range(nb_features)]\n",
    "    Y_app = []\n",
    "    X_test = [[] for _ in range(nb_features)]\n",
    "    Y_test = []\n",
    "\n",
    "    limit = int(len(ps_classes) * (80/100))\n",
    "\n",
    "    for i in range(len(ps_classes)):\n",
    "        p = []\n",
    "        for j in range(nb_features):\n",
    "            p.append(ps[j][i])\n",
    "\n",
    "        if i > limit-1:\n",
    "            for j in range(nb_features):\n",
    "                X_test[j].append(p[j])\n",
    "            Y_test.append(ps_classes[i])\n",
    "        else:\n",
    "            for j in range(nb_features):\n",
    "                X_app[j].append(p[j])\n",
    "            Y_app.append(ps_classes[i])\n",
    "\n",
    "    return X_app, Y_app, X_test, Y_test\n",
    "\n",
    "X_app, Y_app, X_test, Y_test = generate_datasets(points, points_class)"
   ]
  },
  {
   "cell_type": "markdown",
   "metadata": {},
   "source": [
    "## Fonction d'évaluation et d'apprentissage\n",
    "\n",
    "(Question 4, 5 et 6)"
   ]
  },
  {
   "cell_type": "code",
   "execution_count": 3,
   "metadata": {
    "scrolled": true
   },
   "outputs": [
    {
     "data": {
      "text/plain": [
       "[<matplotlib.lines.Line2D at 0x7fc174ed8668>]"
      ]
     },
     "execution_count": 3,
     "metadata": {},
     "output_type": "execute_result"
    },
    {
     "data": {
      "image/png": "[encoded data removed]",
      "text/plain": [
       "<matplotlib.figure.Figure at 0x7fc19c165ef0>"
      ]
     },
     "metadata": {},
     "output_type": "display_data"
    }
   ],
   "source": [
    "# Fonction evaluate qui évalue un x selon un theta\n",
    "\n",
    "def evaluate(x, theta):\n",
    "    # Ajout du 1 à chaque x\n",
    "    npx = np.insert(np.array(x), nb_features, 1, axis=1)\n",
    "\n",
    "    # On met theta comme il faut\n",
    "    theta = theta.reshape((1, nb_features+1))\n",
    "    \n",
    "    # Calcul\n",
    "    v = np.dot(theta, npx.T)\n",
    "\n",
    "    # On applique la fonction signe\n",
    "    v = np.sign(v)\n",
    "    \n",
    "    return v[0][0]\n",
    "\n",
    "# Fonction ptrain\n",
    "\n",
    "def ptrain(xapp, yapp):\n",
    "    theta = np.array([np.random.random() for _ in range(nb_features+1)])\n",
    "    \n",
    "    cpt_success = 0\n",
    "    \n",
    "    while cpt_success < len(yapp):\n",
    "        cpt_success = 0\n",
    "        for i in range(len(yapp)):\n",
    "            x = [xapp[j][i] for j in range(nb_features)]\n",
    "\n",
    "            c = evaluate([x], theta)\n",
    "\n",
    "            # Erreur\n",
    "            if (c == 1 and yapp[i] == 0) or (c == -1 and yapp[i] == 1):\n",
    "                theta -= c * np.concatenate((np.array(x),np.array([1])))\n",
    "            else:\n",
    "                cpt_success += 1\n",
    "                \n",
    "    return np.array(theta)\n",
    "\n",
    "\n",
    "theta = ptrain(X_app, Y_app)\n",
    "\n",
    "plt.scatter(points_x_0, points_y_0, s=12, c='red')\n",
    "plt.scatter(points_x_1, points_y_1, s=12)\n",
    "\n",
    "arr = np.array([i/1000 for i in range(0, 1000)])\n",
    "formula = lambda x : -((theta[0] * x + theta[2])/theta[1])\n",
    "plt.plot(arr, formula(arr), c=\"magenta\")"
   ]
  },
  {
   "cell_type": "markdown",
   "metadata": {},
   "source": [
    "Comme on le voit sur le graphe ci-dessus, la droite sépare bien comme il faut les deux ensembles bleus et rouges. Cependant on peut observer (pour certaines générations aléatoires) un taux de prédiction légèrement inférieur à 100%, mais très proche. On peut expliquer ce phénomène facilement selon le découpage du jeu d'apprentissage et du jeu de test, si la répartition des classes n'est pas bien faite."
   ]
  },
  {
   "cell_type": "code",
   "execution_count": null,
   "metadata": {},
   "outputs": [
    {
     "name": "stdout",
     "output_type": "stream",
     "text": [
      "Taux de prédiction : 95.0%\n"
     ]
    }
   ],
   "source": [
    "# Test sur les jeux de tests\n",
    "\n",
    "def test_theta(xtest, ytest, th):\n",
    "    t = 0\n",
    "    for i in range(len(ytest)):\n",
    "        x = [xtest[j][i] for j in range(nb_features)]\n",
    "        pred = evaluate([x], th)\n",
    "        if pred > 0:\n",
    "            p = 1\n",
    "        else:\n",
    "            p = 0\n",
    "\n",
    "        if p == ytest[i]:\n",
    "            t += 1\n",
    "\n",
    "    return t/len(ytest)*100\n",
    "\n",
    "print(\"Taux de prédiction : \", end='')\n",
    "print(test_theta(X_test, Y_test, theta), end=\"%\\n\")"
   ]
  },
  {
   "cell_type": "code",
   "execution_count": null,
   "metadata": {},
   "outputs": [
    {
     "name": "stdout",
     "output_type": "stream",
     "text": [
      "For d = 2 : 98.15 %\n",
      "For d = 3 : 97.8 %\n",
      "For d = 4 : 96.6 %\n",
      "For d = 5 : 96.4 %\n",
      "For d = 6 : 95.85 %\n",
      "For d = 7 : 94.5 %\n",
      "For d = 8 : 94.45 %\n",
      "For d = 9 : 93.35 %\n",
      "For d = 10 : 91.75 %\n",
      "For d = 11 : 92.35 %\n",
      "For d = 12 : 92.25 %\n",
      "For d = 13 : 91.1 %\n",
      "For d = 14 : 89.6 %\n",
      "For d = 15 : 88.8 %\n",
      "For d = 16 : 90.55 %\n"
     ]
    }
   ],
   "source": [
    "# d de 2 à 20 - 100 réalisations\n",
    "\n",
    "dim_value = []\n",
    "rate_value = []\n",
    "\n",
    "for d in range(2, 20):\n",
    "    nb_features = d\n",
    "    rate = 0\n",
    "    for cpt in range(100):\n",
    "        p, p_class = generate_points(100)\n",
    "        xapp, yapp, xtest, ytest = generate_datasets(p, p_class)\n",
    "        theta = ptrain(xapp, yapp)\n",
    "        rate += test_theta(xtest, ytest, theta)\n",
    "    dim_value.append(d)\n",
    "    rate_value.append(rate/100)\n",
    "    print(\"For d = {} : {} %\".format(d, rate/100))\n",
    "    \n",
    "plt.bar(dim_value, rate_value, 0.6)"
   ]
  },
  {
   "cell_type": "markdown",
   "metadata": {
    "collapsed": true
   },
   "source": [
    "Comme on le voit sur ce dernier graphe, plus la dimension augmente, plus on observe une dégradation du taux de prédiction sur le jeu de test. Ceci est du au fait qu'il est de plus en plus difficile de \"séparer\" les deux ensembles avec une fonction aussi simple qu'une droite."
   ]
  }
 ],
 "metadata": {
  "anaconda-cloud": {},
  "kernelspec": {
   "display_name": "Python 3",
   "language": "python",
   "name": "python3"
  },
  "language_info": {
   "codemirror_mode": {
    "name": "ipython",
    "version": 3
   },
   "file_extension": ".py",
   "mimetype": "text/x-python",
   "name": "python",
   "nbconvert_exporter": "python",
   "pygments_lexer": "ipython3",
   "version": "3.6.3"
  }
 },
 "nbformat": 4,
 "nbformat_minor": 2
}
