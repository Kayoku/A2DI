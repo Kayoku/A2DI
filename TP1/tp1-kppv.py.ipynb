{
 "cells": [
  {
   "cell_type": "markdown",
   "metadata": {},
   "source": [
    "# A2DI : TP1 - k-ppv\n",
    "\n",
    "## Récupération et traitement des données\n",
    "\n",
    "(Question 1 et 2)"
   ]
  },
  {
   "cell_type": "code",
   "execution_count": 1,
   "metadata": {
    "collapsed": true
   },
   "outputs": [],
   "source": [
    "from sklearn import datasets\n",
    "import numpy as np\n",
    "import matplotlib.pyplot as plt\n",
    "import time\n",
    "\n",
    "# Permet l'affichage des graphiques\n",
    "\n",
    "%matplotlib inline\n",
    "\n",
    "# Récupération des données\n",
    "\n",
    "data = datasets.load_iris()\n",
    "\n",
    "# Récupération des valeurs utiles\n",
    "\n",
    "n          = len(data['data'])\n",
    "nb_classes = len(data['target_names'])\n",
    "nb_attr    = len(data['feature_names'])"
   ]
  },
  {
   "cell_type": "markdown",
   "metadata": {},
   "source": [
    "(Question 3)\n",
    "La fonction suivante permet de générer à chaque fois un ensemble partagé pour l'apprentissage et pour les tests."
   ]
  },
  {
   "cell_type": "code",
   "execution_count": 2,
   "metadata": {
    "collapsed": true
   },
   "outputs": [],
   "source": [
    "# Fonction de génération des ensembles\n",
    "\n",
    "def generate_sets():\n",
    "    x = [data['data'][0:50], data['data'][50:100], data['data'][100:150]]\n",
    "    y = [data['target'][0:50], data['target'][50:100], data['target'][100:150]]\n",
    "    X_app = []\n",
    "    X_test = []\n",
    "    Y_app = []\n",
    "    Y_test = []\n",
    "    \n",
    "    # On prend 25 données dans les 3 classes\n",
    "    for i in range(3):\n",
    "        indexs = [w for w in range(50)]\n",
    "        np.random.shuffle(indexs)\n",
    "\n",
    "        for j in range(len(x[i])):\n",
    "            if j < 25:\n",
    "                X_app.append(x[i][indexs[j]])    \n",
    "                Y_app.append(y[i][indexs[j]])\n",
    "            else:\n",
    "                X_test.append(x[i][indexs[j]])\n",
    "                Y_test.append(y[i][indexs[j]])\n",
    "    \n",
    "    return X_app, Y_app, X_test, Y_test\n",
    "\n",
    "# Création des deux ensembles d'apprentissage et de test\n",
    "\n",
    "X_app, Y_app, X_test, Y_test = generate_sets()"
   ]
  },
  {
   "cell_type": "markdown",
   "metadata": {},
   "source": [
    "## Algorithme k-ppv\n",
    "\n",
    "(Question 4)\n",
    "Afin de pouvoir utiliser l'algorithme k-ppv, il faut définir la notion de distance. Nous allons donc pour commencer créer une fonction permettant le calcul de la distance entre deux données.\n",
    "\n",
    "On va calculer la somme des différence au carré entre les deux données (le carré nous permet d'avoir une valeur toujours positive), et renvoyé au final la racine carré de cette somme."
   ]
  },
  {
   "cell_type": "code",
   "execution_count": 3,
   "metadata": {
    "collapsed": true
   },
   "outputs": [],
   "source": [
    "# Permet de renvoyer la distance entre deux exemples\n",
    "\n",
    "def compute_distance(x, y):\n",
    "    distance = 0\n",
    "    for i in range(nb_attr):\n",
    "        distance += (x[i] - y[i]) * (x[i] - y[i])\n",
    "    return np.sqrt(distance)"
   ]
  },
  {
   "cell_type": "markdown",
   "metadata": {},
   "source": [
    "Maintenant qu'on peut évaluer facilement les distances, on va développer l'algorithme k-ppv qui nous renverra une prédiction de classe pour une donnée x."
   ]
  },
  {
   "cell_type": "code",
   "execution_count": 4,
   "metadata": {},
   "outputs": [
    {
     "name": "stdout",
     "output_type": "stream",
     "text": [
      "Test d'utilisation pour x = [1,2,3,4] et k = 5\n",
      "Classe prédite : 1\n"
     ]
    }
   ],
   "source": [
    "# Algorithme des k plus proches voisins\n",
    "\n",
    "def kppv(x, xapp, yapp, k):\n",
    "    # On commence par calculer la distance de x\n",
    "    # avec toutes les autres données et on trie\n",
    "    # le résultat par ordre croissant.\n",
    "\n",
    "    distances = []\n",
    "    for i in range(len(xapp)):\n",
    "        distances.append(compute_distance(x, xapp[i]))\n",
    "        \n",
    "    sort_index_distances = np.argsort(distances)\n",
    "    \n",
    "    # On crée le tableau des classes \"les plus proches\"\n",
    "    # et on décide ainsi laquelle est la plus proche\n",
    "    neighbours_classes = []\n",
    "    for i in range(k):\n",
    "        neighbours_classes.append(yapp[sort_index_distances[i]])\n",
    "    \n",
    "    repartition = np.bincount(neighbours_classes)\n",
    "    prediction  = np.argmax(repartition)\n",
    "    \n",
    "    return prediction\n",
    "\n",
    "print(\"Test d'utilisation pour x = [1,2,3,4] et k = 5\")\n",
    "print(\"Classe prédite : \", end='')\n",
    "print(kppv([1,2,3,4], X_app, Y_app, 5))"
   ]
  },
  {
   "cell_type": "markdown",
   "metadata": {},
   "source": [
    "## Test et performance\n",
    "\n",
    "(Question 5)\n",
    "On va commencer par tester le taux de de prédiction sur l'ensemble de test avec k = 5."
   ]
  },
  {
   "cell_type": "code",
   "execution_count": 5,
   "metadata": {},
   "outputs": [
    {
     "name": "stdout",
     "output_type": "stream",
     "text": [
      "Le taux de prédiction sur ce jeu de test est : 96.0%\n"
     ]
    }
   ],
   "source": [
    "# Test sur un jeu de test\n",
    "\n",
    "t = 0\n",
    "for i in range(len(X_test)):\n",
    "    if (kppv(X_test[i], X_app, Y_app, 5) == Y_test[i]):\n",
    "        t += 1\n",
    "\n",
    "print(\"Le taux de prédiction sur ce jeu de test est : \", end='')\n",
    "print((t/75)*100, end='')\n",
    "print(\"%\")"
   ]
  },
  {
   "cell_type": "markdown",
   "metadata": {},
   "source": [
    "(Question 6) Maintenant on va tester le taux de bonne classification en faisant varier k de 1 à 75 et modéliser le résultat à l'aide d'une courbe."
   ]
  },
  {
   "cell_type": "code",
   "execution_count": 6,
   "metadata": {},
   "outputs": [
    {
     "name": "stdout",
     "output_type": "stream",
     "text": [
      "[0.9733333333333334, 0.9466666666666667, 0.9733333333333334, 0.9866666666666667, 0.96, 0.96, 0.96, 0.9733333333333334, 0.9733333333333334, 0.9733333333333334, 0.9733333333333334, 0.9733333333333334, 0.9733333333333334, 0.9733333333333334, 0.9733333333333334, 0.9866666666666667, 0.9866666666666667, 0.9866666666666667, 0.9866666666666667, 0.9733333333333334, 0.96, 0.9733333333333334, 0.9866666666666667, 0.96, 0.9733333333333334, 0.9466666666666667, 0.9733333333333334, 0.96, 0.9733333333333334, 0.96, 0.9733333333333334, 0.9466666666666667, 0.9466666666666667, 0.9333333333333333, 0.92, 0.92, 0.92, 0.92, 0.92, 0.92, 0.92, 0.92, 0.92, 0.9066666666666666, 0.92, 0.9066666666666666, 0.9066666666666666, 0.8933333333333333, 0.9066666666666666, 0.6533333333333333, 0.6533333333333333, 0.6533333333333333, 0.6533333333333333, 0.6533333333333333, 0.6666666666666666, 0.6666666666666666, 0.6533333333333333, 0.6533333333333333, 0.6533333333333333, 0.6533333333333333, 0.6533333333333333, 0.6533333333333333, 0.6266666666666667, 0.6266666666666667, 0.6266666666666667, 0.6133333333333333, 0.6133333333333333, 0.6, 0.5866666666666667, 0.5866666666666667, 0.5866666666666667, 0.5733333333333334, 0.52, 0.52]\n"
     ]
    },
    {
     "data": {
      "text/plain": [
       "[<matplotlib.lines.Line2D at 0x7f604961fe10>]"
      ]
     },
     "execution_count": 6,
     "metadata": {},
     "output_type": "execute_result"
    },
    {
     "data": {
      "image/png": "[encoded data removed]",
      "text/plain": [
       "<matplotlib.figure.Figure at 0x7f60498fdf60>"
      ]
     },
     "metadata": {},
     "output_type": "display_data"
    }
   ],
   "source": [
    "# Test sur un jeu de test\n",
    "\n",
    "kv = []\n",
    "for k in range(1,len(X_test)):\n",
    "    t = 0\n",
    "    for i in range(len(X_test)):\n",
    "        if (kppv(X_test[i], X_app, Y_app, k) == Y_test[i]):\n",
    "            t += 1\n",
    "    kv.append(t/len(X_test))\n",
    "\n",
    "print(kv)\n",
    "plt.plot(kv)"
   ]
  },
  {
   "cell_type": "markdown",
   "metadata": {},
   "source": [
    "Comme on peut le voir sur la couble, les meilleurs résultats sont obtenus lorsque k est dans l'intervalle approximative [5;20].\n",
    "\n",
    "(Question 7) On va maintenant chercher à calculer le temps moyen d'exécution de l'algorithme k-ppv en fonction de la taille de l'ensemble d'apprentissage. On prendra ici un morceau de l'ensemble sans faire attention à la bonne répartition, puisque nous nous intéressons ici uniquement au temps d'exécution. On va faire varier la taille de l'ensemble de 20% à 95% par tranche de 5% en faisant 100 appels à la fonction pour calculer une moyenne."
   ]
  },
  {
   "cell_type": "code",
   "execution_count": 7,
   "metadata": {},
   "outputs": [
    {
     "data": {
      "text/plain": [
       "<Container object of 16 artists>"
      ]
     },
     "execution_count": 7,
     "metadata": {},
     "output_type": "execute_result"
    },
    {
     "data": {
      "image/png": "[encoded data removed]",
      "text/plain": [
       "<matplotlib.figure.Figure at 0x7f6049627da0>"
      ]
     },
     "metadata": {},
     "output_type": "display_data"
    }
   ],
   "source": [
    "# Test du temps d'exécution en fonction de la taille de l'ensemble d'apprentissage\n",
    "\n",
    "x = [1,2,3,4]\n",
    "time_value = []\n",
    "label_value = []\n",
    "for i in range(20, 100, 5):\n",
    "    percent = int(n*(i/100))\n",
    "    X_in = data['data'][0:percent]\n",
    "    Y_in = data['target'][0:percent]\n",
    "    t1 = time.time()\n",
    "    for t in range(100):\n",
    "        kppv(x, X_in, Y_in, 10)\n",
    "    t2 = time.time() - t1\n",
    "    time_value.append(t2)\n",
    "    label_value.append(i)\n",
    "\n",
    "plt.bar(label_value, time_value, 0.8)"
   ]
  },
  {
   "cell_type": "markdown",
   "metadata": {},
   "source": [
    "Comme on peut le voir sur le graphique, le temps d'exécution augmente de façon linéaire en fonction de la taille de l'ensemble d'apprentissage, ce qui est particulièrement mauvais. Le mieux serait d'avoir une réponse en temps constant."
   ]
  }
 ],
 "metadata": {
  "anaconda-cloud": {},
  "kernelspec": {
   "display_name": "Python 3",
   "language": "python",
   "name": "python3"
  },
  "language_info": {
   "codemirror_mode": {
    "name": "ipython",
    "version": 3
   },
   "file_extension": ".py",
   "mimetype": "text/x-python",
   "name": "python",
   "nbconvert_exporter": "python",
   "pygments_lexer": "ipython3",
   "version": "3.5.2"
  }
 },
 "nbformat": 4,
 "nbformat_minor": 2
}
