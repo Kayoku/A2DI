{
 "cells": [
  {
   "cell_type": "markdown",
   "metadata": {},
   "source": [
    "# A2DI - TP4\n",
    "\n",
    "## Exo 1 - Comparaison de classifieurs\n",
    "\n",
    "(Question 1)"
   ]
  },
  {
   "cell_type": "code",
   "execution_count": 1,
   "metadata": {},
   "outputs": [],
   "source": [
    "from sklearn import datasets\n",
    "import matplotlib.pyplot as plt\n",
    "import numpy as np\n",
    "\n",
    "# Permet l'affichage des graphiques\n",
    "\n",
    "%matplotlib inline\n",
    "\n",
    "# Variable utiles\n",
    "\n",
    "nb_features = 64\n",
    "\n",
    "data=datasets.load_digits()\n",
    "X=data.data\n",
    "X=X.T\n",
    "c=data.target\n",
    "\n",
    "def show_img56(im, l):\n",
    "    img = np.array(im).reshape((8, 8))\n",
    "    img = np.array(list(map(lambda x : list(map(lambda y : [y, y, y], x)), img)))\n",
    "    plt.title(\"6\" if (l == 1.) else \"5\")\n",
    "    plt.imshow(img, cmap=plt.cm.gray_r, interpolation='nearest')"
   ]
  },
  {
   "cell_type": "markdown",
   "metadata": {},
   "source": [
    "(Question 2)"
   ]
  },
  {
   "cell_type": "code",
   "execution_count": 2,
   "metadata": {},
   "outputs": [],
   "source": [
    "def extract_56():\n",
    "    X1 = []\n",
    "    c1 = []\n",
    "    for i in range(len(c)):\n",
    "        if c[i] == 5 or c[i] == 6:\n",
    "            X1.append(data.data[i])\n",
    "            c1.append(data.target[i])\n",
    "    return np.array(X1).T, np.array(c1)\n",
    "\n",
    "X1, c1 = extract_56()"
   ]
  },
  {
   "cell_type": "markdown",
   "metadata": {},
   "source": [
    "(Question 3)"
   ]
  },
  {
   "cell_type": "code",
   "execution_count": 3,
   "metadata": {},
   "outputs": [],
   "source": [
    "# -1 == 5 & 1 == 6\n",
    "c1 = np.sign(c1-np.mean(c1))"
   ]
  },
  {
   "cell_type": "markdown",
   "metadata": {},
   "source": [
    "(Question 4)"
   ]
  },
  {
   "cell_type": "code",
   "execution_count": 4,
   "metadata": {},
   "outputs": [],
   "source": [
    "def kfold_data(X, c, k):\n",
    "    x = np.array(X).T\n",
    "\n",
    "    # On trie les 1 et les -1\n",
    "    arplus = []\n",
    "    arless = []\n",
    "    \n",
    "    for i in range(len(x)):\n",
    "        if c[i] == 1:\n",
    "            arplus.append(x[i])\n",
    "        else:\n",
    "            arless.append(x[i])\n",
    "\n",
    "    # On calcule la taille des plis\n",
    "    size_plus = len(arplus)//k\n",
    "    rest_plus = len(arplus)%k\n",
    "\n",
    "    size_less = len(arless)//k\n",
    "    rest_less = len(arless)%k\n",
    "    \n",
    "    # On crée tous les plis\n",
    "    k_plis = []\n",
    "\n",
    "    for i in range(k):\n",
    "        x = arplus[i*size_plus:(i+1)*size_plus] + arless[i*size_less:(i+1)*size_less]\n",
    "        y = [1 for _ in range(size_plus)] + [-1 for _ in range(size_less)]\n",
    "        s = np.random.get_state()\n",
    "        np.random.shuffle(x)\n",
    "        np.random.set_state(s)\n",
    "        np.random.shuffle(y)\n",
    "        k_plis.append([x, y])\n",
    "\n",
    "    # On ajoute le reste au dernier plis\n",
    "    k_plis[k-1][0] += arplus[k*size_plus:] + arless[k*size_plus:]\n",
    "    k_plis[k-1][1] += [1 for _ in range(rest_plus)] + [-1 for _ in range(rest_less)]\n",
    "\n",
    "    # On crée enfin toutes les possibilités de répartition des plis\n",
    "    # Taille (4, k, sizeX/k)\n",
    "    plis = [[] for _ in range(4)]\n",
    "    \n",
    "    for i in range(len(k_plis)):\n",
    "        x = []\n",
    "        y = []\n",
    "        for j in range(len(k_plis)):\n",
    "            if j != i:\n",
    "                x += k_plis[j][0]\n",
    "                y += k_plis[j][1]\n",
    "        plis[0].append(np.array(x).T)\n",
    "        plis[1].append(np.array(y))\n",
    "        plis[2].append(np.array(k_plis[i][0]).T)\n",
    "        plis[3].append(np.array(k_plis[i][1]))\n",
    "\n",
    "    return plis[0], plis[1], plis[2], plis[3]\n",
    "\n",
    "k = 5\n",
    "t = kfold_data(X1, c1, k)"
   ]
  },
  {
   "cell_type": "markdown",
   "metadata": {},
   "source": [
    "(Question 5 et 6)"
   ]
  },
  {
   "cell_type": "code",
   "execution_count": 5,
   "metadata": {},
   "outputs": [],
   "source": [
    "# Fonction ptest qui évalue un x selon un theta\n",
    "def ptest(x, theta):\n",
    "\n",
    "    # Ajout du 1 à chaque x\n",
    "    npx = np.insert(np.array(x), nb_features, 1, axis=1)\n",
    "\n",
    "    # On met theta comme il faut\n",
    "    theta = theta.reshape((1, nb_features+1))\n",
    "    \n",
    "    # Calcul\n",
    "    v = np.dot(theta, npx.T)\n",
    "\n",
    "    # On applique la fonction signe\n",
    "    v = np.sign(v)\n",
    "\n",
    "    return v[0][0]\n",
    "\n",
    "# Fonction ptrain\n",
    "def ptrain_v2(X_train, c_train, iterations):   \n",
    "    error_train = []\n",
    "    theta = np.array([np.random.random() for _ in range(nb_features+1)])\n",
    "\n",
    "    for _ in range(iterations):\n",
    "        cpt = 0\n",
    "        for i in range(len(c_train)):\n",
    "            x = [X_train[j][i] for j in range(nb_features)]\n",
    "            c = ptest([x], theta)\n",
    "\n",
    "            # Erreur\n",
    "            if (c == 1 and c_train[i] == -1) or (c == -1 and c_train[i] == 1):\n",
    "                theta -= c * np.concatenate((np.array(x),np.array([1])))\n",
    "                cpt += 1\n",
    "        \n",
    "        cpt = (cpt/len(c_train))*100\n",
    "        error_train.append(cpt)\n",
    "\n",
    "    #plt.plot(error_train, label='Erreur de train')\n",
    "    #plt.yticks((0, 10))\n",
    "    #plt.legend()\n",
    "    #plt.show()\n",
    "    \n",
    "    return theta\n",
    "\n",
    "#for i in range(5):\n",
    "#    print(\"Pli \" + str(i))\n",
    "#    ptrain_v2(t[0][i], t[1][i], 10)\n",
    "\n",
    "#print(ptest([[X1[j][21] for j in range(nb_features)]], theta))\n",
    "#show_img56(X1.T[21], c1[21])"
   ]
  },
  {
   "cell_type": "markdown",
   "metadata": {
    "collapsed": true
   },
   "source": [
    "(Question 7)"
   ]
  },
  {
   "cell_type": "code",
   "execution_count": 6,
   "metadata": {},
   "outputs": [],
   "source": [
    "def get_eval(plis, nb_pli):\n",
    "    th = ptrain_v2(plis[0][nb_pli], plis[1][nb_pli], 10)\n",
    "    \n",
    "    error = 0\n",
    "    m = [0 for _ in range(4)]\n",
    "    cpt = 0\n",
    "    for i in range(len(plis[3][nb_pli])):\n",
    "            x = [plis[2][nb_pli][j][i] for j in range(nb_features)]\n",
    "            c = ptest([x], th)\n",
    "            cpt += 1\n",
    "\n",
    "            # Vrai positif\n",
    "            if c == 1 and plis[3][nb_pli][i] == 1:\n",
    "                m[0] += 1\n",
    "            # Faux positif\n",
    "            elif c == 1 and plis[3][nb_pli][i] == -1:\n",
    "                m[1] += 1\n",
    "                error += 1\n",
    "            # Vrai négatif\n",
    "            elif c == -1 and plis[3][nb_pli][i] == -1:\n",
    "                m[2] += 1\n",
    "            # Faux négatif\n",
    "            else:\n",
    "                m[3] += 1\n",
    "                error += 1\n",
    "    m = list(map(lambda x : x / cpt, m))\n",
    "                \n",
    "    error = (error / len(plis[3][nb_pli])) * 100\n",
    "    \n",
    "    return error, m"
   ]
  },
  {
   "cell_type": "markdown",
   "metadata": {},
   "source": [
    "(Question 8)"
   ]
  },
  {
   "cell_type": "code",
   "execution_count": 30,
   "metadata": {},
   "outputs": [
    {
     "name": "stdout",
     "output_type": "stream",
     "text": [
      "(0.8333333333333333, [0.49033333333333334, 0.0, 0.5013333333333334, 0.008333333333333333])\n"
     ]
    }
   ],
   "source": [
    "def loop_cross_validation():\n",
    "    error_mean = 0\n",
    "    m_mean = [0 for _ in range(4)]\n",
    "    for i in range(k):\n",
    "        er, m = get_eval(t, i)\n",
    "        error_mean += er\n",
    "        for j in range(4):\n",
    "            m_mean[j] += m[j]\n",
    "    \n",
    "    m_mean = list(map(lambda x : x/k, m_mean))\n",
    "    error_mean /= k\n",
    "    \n",
    "    return error_mean, m_mean\n",
    "        \n",
    "print(loop_cross_validation())"
   ]
  },
  {
   "cell_type": "code",
   "execution_count": null,
   "metadata": {
    "collapsed": true
   },
   "outputs": [],
   "source": []
  },
  {
   "cell_type": "code",
   "execution_count": null,
   "metadata": {
    "collapsed": true
   },
   "outputs": [],
   "source": []
  }
 ],
 "metadata": {
  "anaconda-cloud": {},
  "kernelspec": {
   "display_name": "Python 3",
   "language": "python",
   "name": "python3"
  },
  "language_info": {
   "codemirror_mode": {
    "name": "ipython",
    "version": 3
   },
   "file_extension": ".py",
   "mimetype": "text/x-python",
   "name": "python",
   "nbconvert_exporter": "python",
   "pygments_lexer": "ipython3",
   "version": "3.5.2"
  }
 },
 "nbformat": 4,
 "nbformat_minor": 1
}
