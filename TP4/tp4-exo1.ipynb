{
 "cells": [
  {
   "cell_type": "markdown",
   "metadata": {},
   "source": [
    "# A2DI - TP4\n",
    "\n",
    "## Exo 1 - Comparaison de classifieurs\n",
    "\n",
    "(Question 1)"
   ]
  },
  {
   "cell_type": "code",
   "execution_count": 1,
   "metadata": {},
   "outputs": [],
   "source": [
    "from sklearn import datasets\n",
    "import matplotlib.pyplot as plt\n",
    "import numpy as np\n",
    "\n",
    "# Permet l'affichage des graphiques\n",
    "\n",
    "%matplotlib inline\n",
    "\n",
    "# Variable utiles\n",
    "\n",
    "nb_features = 64\n",
    "\n",
    "data=datasets.load_digits()\n",
    "X=data.data\n",
    "X=X.T\n",
    "c=data.target\n",
    "\n",
    "def show_img56(im, l):\n",
    "    img = np.array(im).reshape((8, 8))\n",
    "    img = np.array(list(map(lambda x : list(map(lambda y : [y, y, y], x)), img)))\n",
    "    plt.title(\"6\" if (l == 1.) else \"5\")\n",
    "    plt.imshow(img, cmap=plt.cm.gray_r, interpolation='nearest')"
   ]
  },
  {
   "cell_type": "markdown",
   "metadata": {},
   "source": [
    "(Question 2)"
   ]
  },
  {
   "cell_type": "code",
   "execution_count": 2,
   "metadata": {
    "collapsed": true
   },
   "outputs": [],
   "source": [
    "def extract_56():\n",
    "    X1 = []\n",
    "    c1 = []\n",
    "    for i in range(len(c)):\n",
    "        if c[i] == 5 or c[i] == 6:\n",
    "            X1.append(data.data[i])\n",
    "            c1.append(data.target[i])\n",
    "    return np.array(X1).T, np.array(c1)\n",
    "\n",
    "X1, c1 = extract_56()"
   ]
  },
  {
   "cell_type": "markdown",
   "metadata": {},
   "source": [
    "(Question 3)"
   ]
  },
  {
   "cell_type": "code",
   "execution_count": 3,
   "metadata": {
    "collapsed": true
   },
   "outputs": [],
   "source": [
    "# -1 == 5 & 1 == 6\n",
    "c1 = np.sign(c1-np.mean(c1))"
   ]
  },
  {
   "cell_type": "markdown",
   "metadata": {},
   "source": [
    "(Question 4)"
   ]
  },
  {
   "cell_type": "code",
   "execution_count": 4,
   "metadata": {},
   "outputs": [],
   "source": [
    "def kfold_data(X, c, k):\n",
    "    x = np.array(X).T\n",
    "\n",
    "    # On trie les 1 et les -1\n",
    "    arplus = []\n",
    "    arless = []\n",
    "    \n",
    "    for i in range(len(x)):\n",
    "        if c[i] == 1:\n",
    "            arplus.append(x[i])\n",
    "        else:\n",
    "            arless.append(x[i])\n",
    "\n",
    "    # On calcule la taille des plis\n",
    "    size_plus = len(arplus)//k\n",
    "    rest_plus = len(arplus)%k\n",
    "\n",
    "    size_less = len(arless)//k\n",
    "    rest_less = len(arless)%k\n",
    "    \n",
    "    # On crée tous les plis\n",
    "    k_plis = []\n",
    "\n",
    "    for i in range(k):\n",
    "        x = arplus[i*size_plus:(i+1)*size_plus] + arless[i*size_less:(i+1)*size_less]\n",
    "        y = [1 for _ in range(size_plus)] + [-1 for _ in range(size_less)]\n",
    "\n",
    "        s = np.random.get_state()\n",
    "        np.random.shuffle(x)\n",
    "        np.random.set_state(s)\n",
    "        np.random.shuffle(y)\n",
    "        k_plis.append([x, y])\n",
    "\n",
    "    # On ajoute le reste au dernier plis\n",
    "    k_plis[k-1][0] += arplus[k*size_plus:] + arless[k*size_less:]\n",
    "    k_plis[k-1][1] += [1 for _ in range(rest_plus)] + [-1 for _ in range(rest_less)]\n",
    "\n",
    "    # On crée enfin toutes les possibilités de répartition des plis\n",
    "    # Taille (4, k, sizeX/k)\n",
    "    plis = [[] for _ in range(4)]\n",
    "\n",
    "    for i in range(len(k_plis)):\n",
    "        x = []\n",
    "        y = []\n",
    "        for j in range(len(k_plis)):\n",
    "            if j != i:\n",
    "                x += k_plis[j][0]\n",
    "                y += k_plis[j][1]\n",
    "        plis[0].append(np.array(x).T)\n",
    "        plis[1].append(np.array(y))\n",
    "        plis[2].append(np.array(k_plis[i][0]).T)\n",
    "        plis[3].append(np.array(k_plis[i][1]))\n",
    "\n",
    "    return plis[0], plis[1], plis[2], plis[3]\n",
    "\n",
    "k = 5\n",
    "t = kfold_data(X1, c1, k)"
   ]
  },
  {
   "cell_type": "markdown",
   "metadata": {},
   "source": [
    "(Question 5 et 6)"
   ]
  },
  {
   "cell_type": "code",
   "execution_count": 5,
   "metadata": {
    "collapsed": true
   },
   "outputs": [],
   "source": [
    "# Fonction ptest qui évalue un x selon un theta\n",
    "def ptest(x, theta):\n",
    "\n",
    "    # Ajout du 1 à chaque x\n",
    "    npx = np.insert(np.array(x), nb_features, 1, axis=1)\n",
    "\n",
    "    # On met theta comme il faut\n",
    "    theta = theta.reshape((1, nb_features+1))\n",
    "    \n",
    "    # Calcul\n",
    "    v = np.dot(theta, npx.T)\n",
    "\n",
    "    # On applique la fonction signe\n",
    "    v = np.sign(v)\n",
    "\n",
    "    return v[0][0]\n",
    "\n",
    "# Fonction ptrain\n",
    "def ptrain_v2(X_train, c_train, iterations):   \n",
    "    error_train = []\n",
    "    theta = np.array([np.random.random() for _ in range(nb_features+1)])\n",
    "\n",
    "    for _ in range(iterations):\n",
    "        cpt = 0\n",
    "        for i in range(len(c_train)):\n",
    "            x = [X_train[j][i] for j in range(nb_features)]\n",
    "            c = ptest([x], theta)\n",
    "\n",
    "            # Erreur\n",
    "            if (c == 1 and c_train[i] == -1) or (c == -1 and c_train[i] == 1):\n",
    "                theta -= c * np.concatenate((np.array(x),np.array([1])))\n",
    "                cpt += 1\n",
    "        \n",
    "        cpt = (cpt/len(c_train))*100\n",
    "        error_train.append(cpt)\n",
    "\n",
    "    #plt.plot(error_train, label='Erreur de train')\n",
    "    #plt.yticks((0, 10))\n",
    "    #plt.legend()\n",
    "    #plt.show()\n",
    "    \n",
    "    return theta\n",
    "\n",
    "#for i in range(5):\n",
    "#    print(\"Pli \" + str(i))\n",
    "#    ptrain_v2(t[0][i], t[1][i], 10)\n",
    "\n",
    "#print(ptest([[X1[j][21] for j in range(nb_features)]], theta))\n",
    "#show_img56(X1.T[21], c1[21])"
   ]
  },
  {
   "cell_type": "markdown",
   "metadata": {
    "collapsed": true
   },
   "source": [
    "(Question 7)"
   ]
  },
  {
   "cell_type": "code",
   "execution_count": 6,
   "metadata": {
    "collapsed": true
   },
   "outputs": [],
   "source": [
    "def get_eval(plis, nb_pli):\n",
    "    th = ptrain_v2(plis[0][nb_pli], plis[1][nb_pli], 10)\n",
    "    \n",
    "    error = 0\n",
    "    m = [0 for _ in range(4)]\n",
    "    cpt = 0\n",
    "    for i in range(len(plis[3][nb_pli])):\n",
    "            x = [plis[2][nb_pli][j][i] for j in range(nb_features)]\n",
    "            c = ptest([x], th)\n",
    "            cpt += 1\n",
    "\n",
    "            # Vrai positif\n",
    "            if c == 1 and plis[3][nb_pli][i] == 1:\n",
    "                m[0] += 1\n",
    "            # Faux positif\n",
    "            elif c == 1 and plis[3][nb_pli][i] == -1:\n",
    "                m[1] += 1\n",
    "                error += 1\n",
    "            # Vrai négatif\n",
    "            elif c == -1 and plis[3][nb_pli][i] == -1:\n",
    "                m[2] += 1\n",
    "            # Faux négatif\n",
    "            else:\n",
    "                m[3] += 1\n",
    "                error += 1\n",
    "    m = list(map(lambda x : x / cpt, m))\n",
    "                \n",
    "    error = (error / len(plis[3][nb_pli])) * 100\n",
    "    \n",
    "    return error, m"
   ]
  },
  {
   "cell_type": "markdown",
   "metadata": {},
   "source": [
    "(Question 8)"
   ]
  },
  {
   "cell_type": "code",
   "execution_count": 7,
   "metadata": {},
   "outputs": [
    {
     "name": "stdout",
     "output_type": "stream",
     "text": [
      "(1.3888888888888888, [0.4875555555555556, 0.0027777777777777775, 0.4985555555555556, 0.01111111111111111])\n"
     ]
    }
   ],
   "source": [
    "def loop_cross_validation(p):\n",
    "    error_mean = 0\n",
    "    m_mean = [0 for _ in range(4)]\n",
    "    for i in range(k):\n",
    "        er, m = get_eval(p, i)\n",
    "        error_mean += er\n",
    "        for j in range(4):\n",
    "            m_mean[j] += m[j]\n",
    "    \n",
    "    m_mean = list(map(lambda x : x/k, m_mean))\n",
    "    error_mean /= k\n",
    "    \n",
    "    return error_mean, m_mean\n",
    "        \n",
    "print(loop_cross_validation(t))"
   ]
  },
  {
   "cell_type": "markdown",
   "metadata": {
    "collapsed": true
   },
   "source": [
    "(Question 9)"
   ]
  },
  {
   "cell_type": "code",
   "execution_count": 8,
   "metadata": {
    "collapsed": true
   },
   "outputs": [],
   "source": [
    "# Permet de renvoyer la distance entre deux exemples\n",
    "\n",
    "def compute_distance(x, y):\n",
    "    distance = 0\n",
    "    for i in range(len(x)):\n",
    "        distance += (x[i] - y[i]) * (x[i] - y[i])\n",
    "    return np.sqrt(distance)\n",
    "\n",
    "# Algorithme des k plus proches voisins\n",
    "\n",
    "def kppv(x, xapp, yapp, k):\n",
    "    # On commence par calculer la distance de x\n",
    "    # avec toutes les autres données et on trie\n",
    "    # le résultat par ordre croissant.\n",
    "\n",
    "    distances = []\n",
    "    for i in range(len(xapp)):\n",
    "        distances.append(compute_distance(x, xapp[i]))\n",
    "        \n",
    "    sort_index_distances = np.argsort(distances)\n",
    "    \n",
    "    # On crée le tableau des classes \"les plus proches\"\n",
    "    # et on décide ainsi laquelle est la plus proche\n",
    "    neighbours_classes = []\n",
    "\n",
    "    for i in range(k):\n",
    "        neighbours_classes.append(yapp[sort_index_distances[i]])\n",
    "    \n",
    "    repartition = np.bincount(neighbours_classes)\n",
    "    prediction  = np.argmax(repartition)\n",
    "    \n",
    "    return prediction"
   ]
  },
  {
   "cell_type": "markdown",
   "metadata": {},
   "source": [
    "(Question 10)"
   ]
  },
  {
   "cell_type": "code",
   "execution_count": 9,
   "metadata": {
    "collapsed": true
   },
   "outputs": [],
   "source": [
    "def get_eval_kppv(plis, nb_pli):\n",
    "    error = 0\n",
    "    m = [0 for _ in range(4)]\n",
    "    cpt = 0\n",
    "    for i in range(len(plis[3][nb_pli])):\n",
    "            x = [plis[2][nb_pli][j][i] for j in range(nb_features)]\n",
    "            y1 = np.array(list(map(lambda x : x + 1, plis[1][nb_pli])))\n",
    "            c = kppv(x, plis[0][nb_pli].T, y1, 10)\n",
    "            cpt += 1\n",
    "\n",
    "            # Vrai positif\n",
    "            if c == 2 and plis[3][nb_pli][i] == 1:\n",
    "                m[0] += 1\n",
    "            # Faux positif\n",
    "            elif c == 2 and plis[3][nb_pli][i] == -1:\n",
    "                m[1] += 1\n",
    "                error += 1\n",
    "            # Vrai négatif\n",
    "            elif c == 0 and plis[3][nb_pli][i] == -1:\n",
    "                m[2] += 1\n",
    "            # Faux négatif\n",
    "            else:\n",
    "                m[3] += 1\n",
    "                error += 1\n",
    "    m = list(map(lambda x : x / cpt, m))\n",
    "    error = (error / len(plis[3][nb_pli])) * 100\n",
    "    \n",
    "    return error, m"
   ]
  },
  {
   "cell_type": "markdown",
   "metadata": {},
   "source": [
    "(Question 11)"
   ]
  },
  {
   "cell_type": "code",
   "execution_count": 10,
   "metadata": {},
   "outputs": [
    {
     "name": "stdout",
     "output_type": "stream",
     "text": [
      "(0.5555555555555556, [0.4958888888888889, 0.0027777777777777775, 0.4985555555555556, 0.0027777777777777775])\n"
     ]
    }
   ],
   "source": [
    "def loop_cross_validation_kppv(p):\n",
    "    error_mean = 0\n",
    "    m_mean = [0 for _ in range(4)]\n",
    "    for i in range(k):\n",
    "        er, m = get_eval_kppv(p, i)\n",
    "        error_mean += er\n",
    "        for j in range(4):\n",
    "            m_mean[j] += m[j]\n",
    "    \n",
    "    m_mean = list(map(lambda x : x/k, m_mean))\n",
    "    error_mean /= k\n",
    "    \n",
    "    return error_mean, m_mean\n",
    "        \n",
    "print(loop_cross_validation_kppv(t))"
   ]
  },
  {
   "cell_type": "markdown",
   "metadata": {},
   "source": [
    "(Question 12)"
   ]
  },
  {
   "cell_type": "code",
   "execution_count": 11,
   "metadata": {},
   "outputs": [
    {
     "name": "stdout",
     "output_type": "stream",
     "text": [
      "(0.5414304005853301, [0.4902505944759466, 0.0, 0.5043351015182, 0.005414304005853301])\n",
      "(0.0, [0.4956648984817999, 0.0, 0.5043351015182, 0.0])\n"
     ]
    }
   ],
   "source": [
    "def extract_17():\n",
    "    X17 = []\n",
    "    c17 = []\n",
    "    for i in range(len(c)):\n",
    "        if c[i] == 1 or c[i] == 7:\n",
    "            X17.append(data.data[i])\n",
    "            c17.append(data.target[i])\n",
    "    return np.array(X17).T, np.array(c17)\n",
    "\n",
    "X17, c17 = extract_17()\n",
    "c17 = np.sign(c17-np.mean(c17))\n",
    "k = 5\n",
    "t17 = kfold_data(X17, c17, k)\n",
    "\n",
    "print(loop_cross_validation(t17))\n",
    "print(loop_cross_validation_kppv(t17))"
   ]
  },
  {
   "cell_type": "code",
   "execution_count": null,
   "metadata": {
    "collapsed": true
   },
   "outputs": [],
   "source": []
  }
 ],
 "metadata": {
  "anaconda-cloud": {},
  "kernelspec": {
   "display_name": "Python 3",
   "language": "python",
   "name": "python3"
  },
  "language_info": {
   "codemirror_mode": {
    "name": "ipython",
    "version": 3
   },
   "file_extension": ".py",
   "mimetype": "text/x-python",
   "name": "python",
   "nbconvert_exporter": "python",
   "pygments_lexer": "ipython3",
   "version": "3.5.2"
  }
 },
 "nbformat": 4,
 "nbformat_minor": 1
}
