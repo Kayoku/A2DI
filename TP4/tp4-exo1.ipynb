{
 "cells": [
  {
   "cell_type": "markdown",
   "metadata": {},
   "source": [
    "# A2DI - TP4\n",
    "\n",
    "## Exo 1 - Comparaison de classifieurs\n",
    "\n",
    "(Question 1)"
   ]
  },
  {
   "cell_type": "code",
   "execution_count": 8,
   "metadata": {
    "collapsed": true
   },
   "outputs": [],
   "source": [
    "from sklearn import datasets\n",
    "import numpy as np\n",
    "\n",
    "data=datasets.load_digits()\n",
    "X=data.data\n",
    "X=X.T\n",
    "c=data.target"
   ]
  },
  {
   "cell_type": "markdown",
   "metadata": {},
   "source": [
    "(Question 2)"
   ]
  },
  {
   "cell_type": "code",
   "execution_count": 14,
   "metadata": {
    "collapsed": false
   },
   "outputs": [],
   "source": [
    "def extract_56():\n",
    "    X1 = []\n",
    "    c1 = []\n",
    "    for i in range(len(c)):\n",
    "        if c[i] == 5 or c[i] == 6:\n",
    "            X1.append(data.data[i])\n",
    "            c1.append(data.target[i])\n",
    "    return np.array(X1).T, np.array(c1)\n",
    "\n",
    "X1, c1 = extract_56()"
   ]
  },
  {
   "cell_type": "markdown",
   "metadata": {},
   "source": [
    "(Question 3)"
   ]
  },
  {
   "cell_type": "code",
   "execution_count": 15,
   "metadata": {
    "collapsed": false
   },
   "outputs": [
    {
     "name": "stdout",
     "output_type": "stream",
     "text": [
      "[5 6 5 6 5 6 5 5 6 5 5 6 6 6 6 5 5 6 6 6 5 6 6 5 5 5 5 6 5 6 5 6 5 5 6 5 5\n",
      " 6 6 6 6 5 5 6 6 5 6 6 5 5 5 5 6 5 6 5 6 5 5 6 5 5 6 6 6 6 5 5 6 6 6 5 6 6\n",
      " 5 5 5 5 6 5 6 5 6 5 5 6 5 5 6 6 6 6 5 5 6 6 6 5 6 6 5 5 5 5 6 5 6 5 6 5 5\n",
      " 6 5 5 6 6 6 6 5 5 6 6 6 5 6 6 5 5 5 5 6 5 6 5 6 5 5 6 5 5 6 6 6 6 5 5 6 6\n",
      " 6 5 6 6 5 5 5 5 6 5 6 5 6 5 5 6 5 5 6 6 6 6 5 5 6 6 6 5 6 6 5 5 5 5 6 5 6\n",
      " 5 6 5 5 6 5 5 6 6 6 6 5 5 6 6 6 5 6 6 5 5 5 5 6 5 6 5 6 5 5 6 5 5 6 6 6 6\n",
      " 5 5 6 6 6 5 6 6 5 5 5 5 6 5 6 5 6 5 5 6 5 5 6 6 6 6 5 5 6 6 6 5 6 6 5 5 5\n",
      " 5 6 5 6 5 6 5 5 6 5 5 6 6 6 6 5 5 6 6 6 5 6 6 5 5 5 5 6 5 6 5 6 5 5 6 5 5\n",
      " 6 6 6 6 5 5 6 6 6 5 6 6 5 5 5 5 6 5 6 5 6 5 5 6 5 5 6 6 6 6 5 5 6 6 6 5 6\n",
      " 6 5 5 5 5 6 5 6 5 6 5 5 6 5 5 6 6 6 6 5 5 6 6 6 5 6 6 5 5 5]\n",
      "[-1.  1. -1.  1. -1.  1. -1. -1.  1. -1. -1.  1.  1.  1.  1. -1. -1.  1.\n",
      "  1.  1. -1.  1.  1. -1. -1. -1. -1.  1. -1.  1. -1.  1. -1. -1.  1. -1.\n",
      " -1.  1.  1.  1.  1. -1. -1.  1.  1. -1.  1.  1. -1. -1. -1. -1.  1. -1.\n",
      "  1. -1.  1. -1. -1.  1. -1. -1.  1.  1.  1.  1. -1. -1.  1.  1.  1. -1.\n",
      "  1.  1. -1. -1. -1. -1.  1. -1.  1. -1.  1. -1. -1.  1. -1. -1.  1.  1.\n",
      "  1.  1. -1. -1.  1.  1.  1. -1.  1.  1. -1. -1. -1. -1.  1. -1.  1. -1.\n",
      "  1. -1. -1.  1. -1. -1.  1.  1.  1.  1. -1. -1.  1.  1.  1. -1.  1.  1.\n",
      " -1. -1. -1. -1.  1. -1.  1. -1.  1. -1. -1.  1. -1. -1.  1.  1.  1.  1.\n",
      " -1. -1.  1.  1.  1. -1.  1.  1. -1. -1. -1. -1.  1. -1.  1. -1.  1. -1.\n",
      " -1.  1. -1. -1.  1.  1.  1.  1. -1. -1.  1.  1.  1. -1.  1.  1. -1. -1.\n",
      " -1. -1.  1. -1.  1. -1.  1. -1. -1.  1. -1. -1.  1.  1.  1.  1. -1. -1.\n",
      "  1.  1.  1. -1.  1.  1. -1. -1. -1. -1.  1. -1.  1. -1.  1. -1. -1.  1.\n",
      " -1. -1.  1.  1.  1.  1. -1. -1.  1.  1.  1. -1.  1.  1. -1. -1. -1. -1.\n",
      "  1. -1.  1. -1.  1. -1. -1.  1. -1. -1.  1.  1.  1.  1. -1. -1.  1.  1.\n",
      "  1. -1.  1.  1. -1. -1. -1. -1.  1. -1.  1. -1.  1. -1. -1.  1. -1. -1.\n",
      "  1.  1.  1.  1. -1. -1.  1.  1.  1. -1.  1.  1. -1. -1. -1. -1.  1. -1.\n",
      "  1. -1.  1. -1. -1.  1. -1. -1.  1.  1.  1.  1. -1. -1.  1.  1.  1. -1.\n",
      "  1.  1. -1. -1. -1. -1.  1. -1.  1. -1.  1. -1. -1.  1. -1. -1.  1.  1.\n",
      "  1.  1. -1. -1.  1.  1.  1. -1.  1.  1. -1. -1. -1. -1.  1. -1.  1. -1.\n",
      "  1. -1. -1.  1. -1. -1.  1.  1.  1.  1. -1. -1.  1.  1.  1. -1.  1.  1.\n",
      " -1. -1. -1.]\n"
     ]
    }
   ],
   "source": [
    "c1 = np.sign(c1-np.mean(c1))"
   ]
  },
  {
   "cell_type": "markdown",
   "metadata": {},
   "source": [
    "(Question 4)"
   ]
  },
  {
   "cell_type": "code",
   "execution_count": null,
   "metadata": {
    "collapsed": true
   },
   "outputs": [],
   "source": [
    "def kfold_data(X, c, k):\n",
    "    ar5 = []\n",
    "    ar6 = []"
   ]
  }
 ],
 "metadata": {
  "anaconda-cloud": {},
  "kernelspec": {
   "display_name": "Python [Root]",
   "language": "python",
   "name": "Python [Root]"
  },
  "language_info": {
   "codemirror_mode": {
    "name": "ipython",
    "version": 3
   },
   "file_extension": ".py",
   "mimetype": "text/x-python",
   "name": "python",
   "nbconvert_exporter": "python",
   "pygments_lexer": "ipython3",
   "version": "3.5.2"
  }
 },
 "nbformat": 4,
 "nbformat_minor": 0
}
