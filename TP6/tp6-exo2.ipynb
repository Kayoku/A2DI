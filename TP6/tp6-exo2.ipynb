{
 "cells": [
  {
   "cell_type": "markdown",
   "metadata": {},
   "source": [
    "# A2DI - TP6\n",
    "\n",
    "## Exercice 2 - Discriminatif vs Génératif\n",
    "\n",
    "(Question 1)"
   ]
  },
  {
   "cell_type": "code",
   "execution_count": 3,
   "metadata": {
    "collapsed": false
   },
   "outputs": [],
   "source": [
    "from sklearn import datasets\n",
    "from sklearn import linear_model\n",
    "import matplotlib.pyplot as plt\n",
    "import numpy as np\n",
    "import scipy\n",
    "\n",
    "# Permet l'affichage des graphiques\n",
    "%matplotlib inline\n",
    "\n",
    "data = scipy.io.loadmat('20news_w100.mat')\n",
    "X = data['documents'].toarray()\n",
    "c = data[\"newsgroups\"][0]-1\n",
    "\n",
    "n = np.shape(c)[0]\n",
    "d = np.shape(X)[0]\n",
    "n_class = len(np.bincount(c))\n",
    "\n",
    "# X_input : ensemble X d'exemple\n",
    "# c_input : labels de X\n",
    "# k       : nombre de pli\n",
    "# n_class : nombre de class\n",
    "def kfold_data(X_input, c_input, k, nb_class):\n",
    "    # On transpose pour que ce soit plus pratique\n",
    "    x_transpose = np.array(X_input).T\n",
    "\n",
    "    # On commence par regrouper chaque exemple\n",
    "    # par leurs labels respectifs\n",
    "    x_by_labels = [[] for _ in range(nb_class)]\n",
    "    for i in range(len(c_input)):\n",
    "        x_by_labels[c_input[i]].append(x_transpose[i])\n",
    "        np.random.shuffle(x_by_labels[c_input[i]])\n",
    "    \n",
    "    # On crée les différents plis selon le nombre de \n",
    "    # chacune des classes\n",
    "    size_pli_by_class = [0 for _ in range(nb_class)]\n",
    "    rest_pli_by_class = [0 for _ in range(nb_class)]\n",
    "    \n",
    "    for i in range(nb_class):\n",
    "        size_pli_by_class[i] = len(x_by_labels[i]) // k\n",
    "        rest_pli_by_class[i] = len(x_by_labels[i]) % k\n",
    "    \n",
    "    k_plis = []\n",
    "    \n",
    "    # Chaque boucle crée un nouveau pli\n",
    "    for i in range(k):\n",
    "        xx = []\n",
    "        yy = []\n",
    "\n",
    "        for j in range(nb_class):\n",
    "            xx += x_by_labels[j][i*size_pli_by_class[j]:(i+1)*size_pli_by_class[j]]\n",
    "            yy += [j for _ in range(size_pli_by_class[j])]\n",
    "        \n",
    "        s = np.random.get_state()\n",
    "        np.random.shuffle(xx)\n",
    "        np.random.set_state(s)\n",
    "        np.random.shuffle(yy)\n",
    "        \n",
    "        k_plis.append([xx, yy])\n",
    "    \n",
    "    # On ajoute le reste de chaque classe au dernier pli\n",
    "    for j in range(nb_class):\n",
    "        k_plis[-1][0] += x_by_labels[j][k*size_pli_by_class[j]:]\n",
    "        k_plis[-1][1] += [j for _ in range(rest_pli_by_class[j])]\n",
    "        \n",
    "    # Pour finir on crée toutes les possibilités de répartition des\n",
    "    # plis\n",
    "    plis = [[] for _ in range(4)]\n",
    "    \n",
    "    for i in range(len(k_plis)):\n",
    "        xx = []\n",
    "        yy = []\n",
    "        for j in range(len(k_plis)):\n",
    "            if j != i:\n",
    "                xx += k_plis[j][0]\n",
    "                yy += k_plis[j][1]\n",
    "        plis[0].append(np.array(xx).T)\n",
    "        plis[1].append(np.array(yy))\n",
    "        plis[2].append(np.array(k_plis[i][0]).T)\n",
    "        plis[3].append(np.array(k_plis[i][1]))\n",
    "        \n",
    "    return plis[0], plis[1], plis[2], plis[3]\n",
    "\n",
    "k_plis = kfold_data(X, c, 5, n_class)"
   ]
  },
  {
   "cell_type": "markdown",
   "metadata": {},
   "source": [
    "(Question 2)"
   ]
  },
  {
   "cell_type": "code",
   "execution_count": 4,
   "metadata": {
    "collapsed": false
   },
   "outputs": [
    {
     "name": "stdout",
     "output_type": "stream",
     "text": [
      "(4, 5)\n",
      "(100, 12995)\n",
      "[3684 2816 2126 4369]\n",
      "[ 921  703  531 1092]\n",
      "[3684 2812 2124 4368]\n",
      "[ 921  707  533 1093]\n",
      "18.94056051740068\n",
      "19.83369263935941\n",
      "19.49491838620265\n",
      "18.878965198644902\n",
      "17.670559311616472\n"
     ]
    }
   ],
   "source": [
    "print(np.shape(k_plis))\n",
    "print(np.shape(k_plis[0][0]))\n",
    "\n",
    "print(np.bincount(k_plis[1][0]))\n",
    "print(np.bincount(k_plis[3][0]))\n",
    "\n",
    "print(np.bincount(k_plis[1][4]))\n",
    "print(np.bincount(k_plis[3][4]))\n",
    "\n",
    "for p in range(len(k_plis[0])):\n",
    "    # On l'entraine\n",
    "    logreg = linear_model.LogisticRegression(C=1e5, multi_class='multinomial', solver='newton-cg')\n",
    "    logreg.fit(np.transpose(k_plis[0][p]), k_plis[1][p])\n",
    "    \n",
    "    err = 0\n",
    "    # On test sur tous les exemples\n",
    "    X_ex = np.transpose(k_plis[2][p])\n",
    "    pred = logreg.predict(X_ex)\n",
    "\n",
    "    for i in range(len(X_ex)):\n",
    "        if pred[i] != k_plis[3][p][i]:\n",
    "            err += 1\n",
    "    err = (err / len(X_ex)) * 100\n",
    "    print(err)"
   ]
  },
  {
   "cell_type": "code",
   "execution_count": null,
   "metadata": {
    "collapsed": true
   },
   "outputs": [],
   "source": []
  }
 ],
 "metadata": {
  "anaconda-cloud": {},
  "kernelspec": {
   "display_name": "Python [Root]",
   "language": "python",
   "name": "Python [Root]"
  },
  "language_info": {
   "codemirror_mode": {
    "name": "ipython",
    "version": 3
   },
   "file_extension": ".py",
   "mimetype": "text/x-python",
   "name": "python",
   "nbconvert_exporter": "python",
   "pygments_lexer": "ipython3",
   "version": "3.5.2"
  }
 },
 "nbformat": 4,
 "nbformat_minor": 0
}
