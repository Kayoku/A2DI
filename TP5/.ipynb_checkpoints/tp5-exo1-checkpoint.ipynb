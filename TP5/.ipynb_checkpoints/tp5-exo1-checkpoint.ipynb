{
 "cells": [
  {
   "cell_type": "markdown",
   "metadata": {},
   "source": [
    "# A2DI - TP5\n",
    "\n",
    "## Exo 1 - Classifieur naïf bayésien et sac de mots\n",
    "\n",
    "(Question 1)"
   ]
  },
  {
   "cell_type": "code",
   "execution_count": 1,
   "metadata": {
    "collapsed": false
   },
   "outputs": [
    {
     "name": "stderr",
     "output_type": "stream",
     "text": [
      "/opt/anaconda3/lib/python3.5/site-packages/matplotlib/font_manager.py:273: UserWarning: Matplotlib is building the font cache using fc-list. This may take a moment.\n",
      "  warnings.warn('Matplotlib is building the font cache using fc-list. This may take a moment.')\n",
      "/opt/anaconda3/lib/python3.5/site-packages/matplotlib/font_manager.py:273: UserWarning: Matplotlib is building the font cache using fc-list. This may take a moment.\n",
      "  warnings.warn('Matplotlib is building the font cache using fc-list. This may take a moment.')\n"
     ]
    },
    {
     "name": "stdout",
     "output_type": "stream",
     "text": [
      "Shape de X : (100, 16242)\n",
      "Shape de c : (16242,)\n"
     ]
    }
   ],
   "source": [
    "from sklearn import datasets\n",
    "import matplotlib.pyplot as plt\n",
    "import numpy as np\n",
    "import scipy\n",
    "\n",
    "data = scipy.io.loadmat('20news_w100.mat')\n",
    "X = data['documents'].toarray()\n",
    "c = data[\"newsgroups\"][0]-1\n",
    "\n",
    "print(\"Shape de X : {}\".format(np.shape(X)))\n",
    "print(\"Shape de c : {}\".format(np.shape(c)))"
   ]
  },
  {
   "cell_type": "markdown",
   "metadata": {},
   "source": [
    "(Question 2)"
   ]
  },
  {
   "cell_type": "code",
   "execution_count": 2,
   "metadata": {
    "collapsed": false
   },
   "outputs": [
    {
     "name": "stdout",
     "output_type": "stream",
     "text": [
      "Nombre d'exemple : 16242\n",
      "Nombre de dimension : 100\n",
      "Nombre de classe : 4\n"
     ]
    }
   ],
   "source": [
    "n = np.shape(c)[0]\n",
    "d = np.shape(X)[0]\n",
    "n_class = len(np.bincount(c))\n",
    "\n",
    "print(\"Nombre d'exemple : {}\".format(n))\n",
    "print(\"Nombre de dimension : {}\".format(d))\n",
    "print(\"Nombre de classe : {}\".format(n_class))"
   ]
  },
  {
   "cell_type": "markdown",
   "metadata": {},
   "source": [
    "(Question 3)"
   ]
  },
  {
   "cell_type": "code",
   "execution_count": 3,
   "metadata": {
    "collapsed": true
   },
   "outputs": [],
   "source": [
    "# X_input : ensemble X d'exemple\n",
    "# c_input : labels de X\n",
    "# k       : nombre de pli\n",
    "# n_class : nombre de class\n",
    "def kfold_data(X_input, c_input, k, nb_class):\n",
    "    # On transpose pour que ce soit plus pratique\n",
    "    x_transpose = np.array(X_input).T\n",
    "\n",
    "    # On commence par regrouper chaque exemple\n",
    "    # par leurs labels respectifs\n",
    "    x_by_labels = [[] for _ in range(nb_class)]\n",
    "    for i in range(len(c_input)):\n",
    "        x_by_labels[c_input[i]].append(x_transpose[i])\n",
    "    \n",
    "    # On crée les différents plis selon le nombre de \n",
    "    # chacune des classes\n",
    "    size_pli_by_class = [0 for _ in range(nb_class)]\n",
    "    rest_pli_by_class = [0 for _ in range(nb_class)]\n",
    "    \n",
    "    for i in range(nb_class):\n",
    "        size_pli_by_class[i] = len(x_by_labels[i]) // k\n",
    "        rest_pli_by_class[i] = len(x_by_labels[i]) % k\n",
    "    \n",
    "    k_plis = []\n",
    "    \n",
    "    # Chaque boucle crée un nouveau pli\n",
    "    for i in range(k):\n",
    "        xx = []\n",
    "        yy = []\n",
    "\n",
    "        for j in range(nb_class):\n",
    "            xx += x_by_labels[j][i*size_pli_by_class[j]:(i+1)*size_pli_by_class[j]]\n",
    "            yy += [j for _ in range(size_pli_by_class[j])]\n",
    "        \n",
    "        s = np.random.get_state()\n",
    "        np.random.shuffle(xx)\n",
    "        np.random.set_state(s)\n",
    "        np.random.shuffle(yy)\n",
    "        \n",
    "        k_plis.append([xx, yy])\n",
    "    \n",
    "    # On ajoute le reste de chaque classe au dernier pli\n",
    "    for j in range(nb_class):\n",
    "        k_plis[-1][0] += x_by_labels[j][k*size_pli_by_class[j]:]\n",
    "        k_plis[-1][1] += [j for _ in range(rest_pli_by_class[j])]\n",
    "        \n",
    "    # Pour finir on crée toutes les possibilités de répartition des\n",
    "    # plis\n",
    "    plis = [[] for _ in range(4)]\n",
    "    \n",
    "    for i in range(len(k_plis)):\n",
    "        xx = []\n",
    "        yy = []\n",
    "        for j in range(len(k_plis)):\n",
    "            if j != i:\n",
    "                xx += k_plis[j][0]\n",
    "                yy += k_plis[j][1]\n",
    "        plis[0].append(np.array(xx).T)\n",
    "        plis[1].append(np.array(yy))\n",
    "        plis[2].append(np.array(k_plis[i][0]).T)\n",
    "        plis[3].append(np.array(k_plis[i][1]))\n",
    "        \n",
    "    return plis[0], plis[1], plis[2], plis[3]\n",
    "\n",
    "k = 3\n",
    "k_plis = kfold_data(X, c, k, n_class)"
   ]
  },
  {
   "cell_type": "markdown",
   "metadata": {},
   "source": [
    "(Question 4)"
   ]
  },
  {
   "cell_type": "code",
   "execution_count": 4,
   "metadata": {
    "collapsed": false
   },
   "outputs": [],
   "source": [
    "first_pli_x = k_plis[0][0].T\n",
    "first_pli_y = k_plis[1][0]\n",
    "hundred_class_0 = []\n",
    "hundred_class_1 = []\n",
    "\n",
    "for i in range(len(first_pli_y)):\n",
    "    if len(hundred_class_0) == 100 and len(hundred_class_1) == 100:\n",
    "        break\n",
    "    \n",
    "    if first_pli_y[i] == 0 and len(hundred_class_0) < 100:\n",
    "        hundred_class_0.append(first_pli_x[i])\n",
    "    elif first_pli_y[i] == 1 and len(hundred_class_1) < 100:\n",
    "        hundred_class_1.append(first_pli_x[i])\n",
    "\n",
    "to_display = np.vstack((hundred_class_0, hundred_class_1))\n",
    "plt.imshow(to_display, cmap='gray')\n",
    "plt.show()"
   ]
  },
  {
   "cell_type": "markdown",
   "metadata": {
    "collapsed": true
   },
   "source": [
    "Comme on le voit sur l'image dessiné au dessus, on peut observer pour les exemples de même classe des patterns assez abstrait. On voit bien qu'il y a des points communs qui sont différents selon la classe qu'on regarde. (Normalement on peut observer des \"lignes\" verticales). C'est grâce à ces patterns qu'on fait la différence entre les classes.\n",
    "\n",
    "(Question 5)"
   ]
  },
  {
   "cell_type": "code",
   "execution_count": 5,
   "metadata": {
    "collapsed": false
   },
   "outputs": [
    {
     "name": "stdout",
     "output_type": "stream",
     "text": [
      "Répartition des probabilités des classes pour chaque pli :\n",
      "  Pli 0 : [0.28349801459045154, 0.21664050235478807, 0.163634684643088, 0.33622679841167236]\n",
      "  Pli 1 : [0.28349801459045154, 0.21664050235478807, 0.163634684643088, 0.33622679841167236]\n",
      "  Pli 2 : [0.2835765749122483, 0.21670053574727507, 0.16349528911878811, 0.33622760022168852]\n"
     ]
    }
   ],
   "source": [
    "# Tableau de taille 3x4 (3 = nb de pli, 4 = nb de classe)\n",
    "proba_class_pli = [[] for _ in range(len(k_plis[0]))]\n",
    "\n",
    "# Pour chaque pli\n",
    "print(\"Répartition des probabilités des classes pour chaque pli :\")\n",
    "for p in range(len(k_plis[0])):\n",
    "    rep_class = np.bincount(k_plis[1][p])\n",
    "    for i in range(n_class):\n",
    "        proba_class_pli[p].append(rep_class[i] / np.sum(rep_class))\n",
    "    print(\"  Pli {} : {}\".format(p, proba_class_pli[p]))"
   ]
  },
  {
   "cell_type": "markdown",
   "metadata": {},
   "source": [
    "(Question 6)"
   ]
  },
  {
   "cell_type": "code",
   "execution_count": 16,
   "metadata": {
    "collapsed": false
   },
   "outputs": [],
   "source": [
    "# Tableau de taille 3x(100x4) (3 = nb de pli, 100 = nb de feature\n",
    "# 4 = nb de classe)\n",
    "proba_word_class_pli = [[] for _ in range(len(k_plis[0]))]\n",
    "\n",
    "# Pour chaque pli\n",
    "for p in range(len(k_plis[0])):\n",
    "    rep_class = np.bincount(k_plis[1][p])\n",
    "    rep_words = [np.array([0 for _ in range(d)]) for _ in range(n_class)]\n",
    "    \n",
    "    # Pour chaque exemple du pli\n",
    "    for ex in range(np.shape(k_plis[0][p])[1]):\n",
    "        index_class = k_plis[1][p][ex]\n",
    "\n",
    "        for i in range(d):\n",
    "            if k_plis[0][p][i][ex] == 1:\n",
    "                rep_words[index_class][i] += 1\n",
    "\n",
    "    # On divise par le nb de classe\n",
    "    for i in range(n_class):\n",
    "        rep_words[i] = rep_words[i] / rep_class[i]\n",
    "    \n",
    "    proba_word_class_pli[p] = rep_words"
   ]
  },
  {
   "cell_type": "markdown",
   "metadata": {},
   "source": [
    "(Question 7)"
   ]
  },
  {
   "cell_type": "code",
   "execution_count": 17,
   "metadata": {
    "collapsed": false
   },
   "outputs": [
    {
     "name": "stdout",
     "output_type": "stream",
     "text": [
      "[573.6666666666666, 704.0, 780.3333333333334]\n"
     ]
    }
   ],
   "source": [
    "# Pour chaque pli\n",
    "error_by_pli = [0 for _ in range(len(k_plis[0]))]\n",
    "\n",
    "for p in range(len(k_plis[0])):\n",
    "    sadness = 0\n",
    "    # Pour chaque exemple\n",
    "    for ex in range(np.shape(k_plis[0][p])[1]):\n",
    "        res = [proba_class_pli[p][i] for i in range(n_class)]\n",
    "        \n",
    "        # Pour chaque mot\n",
    "        for m in range(d):\n",
    "            if k_plis[0][p][m][ex] == 1:\n",
    "                for cl in range(n_class):\n",
    "                    res[cl] *= proba_word_class_pli[p][cl][m]\n",
    "\n",
    "        # Si j'ai le mauvais résultat, je suis moins heureux\n",
    "        if k_plis[1][p][ex] != np.argmax(res):\n",
    "            sadness += 1\n",
    "\n",
    "    error_by_pli[p] = sadness / np.shape(k_plis[0][p])[1]\n",
    "\n",
    "print(error_by_pli)"
   ]
  }
 ],
 "metadata": {
  "anaconda-cloud": {},
  "kernelspec": {
   "display_name": "Python [Root]",
   "language": "python",
   "name": "Python [Root]"
  },
  "language_info": {
   "codemirror_mode": {
    "name": "ipython",
    "version": 3
   },
   "file_extension": ".py",
   "mimetype": "text/x-python",
   "name": "python",
   "nbconvert_exporter": "python",
   "pygments_lexer": "ipython3",
   "version": "3.5.2"
  }
 },
 "nbformat": 4,
 "nbformat_minor": 2
}
